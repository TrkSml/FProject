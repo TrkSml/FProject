{
 "cells": [
  {
   "cell_type": "markdown",
   "metadata": {},
   "source": [
    "# First Task "
   ]
  },
  {
   "cell_type": "code",
   "execution_count": 97,
   "metadata": {
    "collapsed": true
   },
   "outputs": [],
   "source": [
    "import numpy as np\n",
    "mean, std= 1000, 10\n",
    "number_of_samples=100\n",
    "\n",
    "#function to test the mean\n",
    "def mean_function(X):\n",
    "    return np.sum(X)/X.shape[0]\n",
    "\n",
    "#function to test the deviation\n",
    "def standard_deviation_function(X,mean):\n",
    "    return np.sqrt(np.sum((X-mean)**2)/X.shape[0])\n",
    "\n",
    "#Our first sample\n",
    "X = np.random.normal(mean,std,number_of_samples)\n",
    "\n",
    "#Resampling until obtaining a sample which corresponds to our criteria\n",
    "i=0\n",
    "while abs(mean-mean_function(X))>0.5 or abs(std-standard_deviation_function(X,mean_function(X)))>0.1:\n",
    "    i+=1\n",
    "    X = np.random.normal(mean,std,number_of_samples)    \n",
    "    "
   ]
  },
  {
   "cell_type": "markdown",
   "metadata": {},
   "source": [
    "### We are now checking the mean of our generated list of values:"
   ]
  },
  {
   "cell_type": "code",
   "execution_count": 98,
   "metadata": {},
   "outputs": [
    {
     "data": {
      "text/plain": [
       "0.15999810401956438"
      ]
     },
     "execution_count": 98,
     "metadata": {},
     "output_type": "execute_result"
    }
   ],
   "source": [
    "abs(mean-mean_function(X))"
   ]
  },
  {
   "cell_type": "markdown",
   "metadata": {},
   "source": [
    "### Checking the standard deviation:"
   ]
  },
  {
   "cell_type": "code",
   "execution_count": 99,
   "metadata": {},
   "outputs": [
    {
     "data": {
      "text/plain": [
       "0.046554073227561332"
      ]
     },
     "execution_count": 99,
     "metadata": {},
     "output_type": "execute_result"
    }
   ],
   "source": [
    "abs(std-standard_deviation_function(X,mean_function(X)))"
   ]
  },
  {
   "cell_type": "code",
   "execution_count": 4,
   "metadata": {},
   "outputs": [
    {
     "data": {
      "text/plain": [
       "31"
      ]
     },
     "execution_count": 4,
     "metadata": {},
     "output_type": "execute_result"
    }
   ],
   "source": [
    "i"
   ]
  },
  {
   "cell_type": "markdown",
   "metadata": {},
   "source": [
    "# Second Task"
   ]
  },
  {
   "cell_type": "code",
   "execution_count": 5,
   "metadata": {
    "collapsed": true
   },
   "outputs": [],
   "source": [
    "#We will choose an arbitrary N\n",
    "\n",
    "def simulate(N):\n",
    "    List_of_couples=[[] for _ in range(N)]\n",
    "    FLAG=[False for i in range(N)]\n",
    "\n",
    "    while not all(FLAG):\n",
    "        for i in range(len(List_of_couples)):\n",
    "            item=np.random.random()\n",
    "            if not FLAG[i]:\n",
    "                #test if it is a girl\n",
    "                #Equiprobability to have either a boy or a girl\n",
    "                if item>.5 :\n",
    "                    List_of_couples[i]+=[0]\n",
    "                #Then it is a boy\n",
    "                else :\n",
    "                    List_of_couples[i]+=[1]\n",
    "                    FLAG[i]=True\n",
    "\n",
    "    #Long-term Ratio\n",
    "    Ratio_parameter=reduce(lambda x,y:x+y,List_of_couples)\n",
    "    Final_Ratio=sum(Ratio_parameter)/float(len(Ratio_parameter)-sum(Ratio_parameter))\n",
    "    \n",
    "    return Final_Ratio\n"
   ]
  },
  {
   "cell_type": "markdown",
   "metadata": {},
   "source": [
    "#### We will fix a number of couples in a country each time and calculate the long-term ratio:"
   ]
  },
  {
   "cell_type": "code",
   "execution_count": 6,
   "metadata": {},
   "outputs": [
    {
     "data": {
      "image/png": "[encoded data removed]",
      "text/plain": [
       "<matplotlib.figure.Figure at 0x7fdc2f4b86d0>"
      ]
     },
     "metadata": {},
     "output_type": "display_data"
    }
   ],
   "source": [
    "import matplotlib.pyplot as plt\n",
    "\n",
    "\n",
    "X=range(10,1000,1)\n",
    "Y=map(simulate,X)\n",
    "\n",
    "plt.plot(X,Y)\n",
    "plt.show()\n",
    "\n",
    "## The long-term ratio of boys to girls in the country is equal to 1"
   ]
  },
  {
   "cell_type": "markdown",
   "metadata": {},
   "source": [
    "# Thrid Task\n",
    "##### Importing data after assigning the attributes :"
   ]
  },
  {
   "cell_type": "code",
   "execution_count": 7,
   "metadata": {
    "collapsed": true
   },
   "outputs": [],
   "source": [
    "import pandas as pd\n",
    "import numpy as np\n",
    "names=[\"Age\",\"Workclass\",\"fnlwgt\",\"Education\",\"Education-number\",\"Marital-Status\",\"Occupation\",\n",
    "      \"Relationship\",\"Race\",\"Sex\",\"Capital-gain\",\"Capital-loss\",\"Hours-per-week\",\"Native_Country\",\"Salary\"]\n",
    "data=pd.read_csv('adult.data',names=names)"
   ]
  },
  {
   "cell_type": "markdown",
   "metadata": {},
   "source": [
    "Quick exploratory data analysis :"
   ]
  },
  {
   "cell_type": "code",
   "execution_count": 8,
   "metadata": {},
   "outputs": [
    {
     "data": {
      "text/html": [
       "<div>\n",
       "<table border=\"1\" class=\"dataframe\">\n",
       "  <thead>\n",
       "    <tr style=\"text-align: right;\">\n",
       "      <th></th>\n",
       "      <th>Age</th>\n",
       "      <th>Workclass</th>\n",
       "      <th>fnlwgt</th>\n",
       "      <th>Education</th>\n",
       "      <th>Education-number</th>\n",
       "      <th>Marital-Status</th>\n",
       "      <th>Occupation</th>\n",
       "      <th>Relationship</th>\n",
       "      <th>Race</th>\n",
       "      <th>Sex</th>\n",
       "      <th>Capital-gain</th>\n",
       "      <th>Capital-loss</th>\n",
       "      <th>Hours-per-week</th>\n",
       "      <th>Native_Country</th>\n",
       "      <th>Salary</th>\n",
       "    </tr>\n",
       "  </thead>\n",
       "  <tbody>\n",
       "    <tr>\n",
       "      <th>0</th>\n",
       "      <td>39</td>\n",
       "      <td>State-gov</td>\n",
       "      <td>77516</td>\n",
       "      <td>Bachelors</td>\n",
       "      <td>13</td>\n",
       "      <td>Never-married</td>\n",
       "      <td>Adm-clerical</td>\n",
       "      <td>Not-in-family</td>\n",
       "      <td>White</td>\n",
       "      <td>Male</td>\n",
       "      <td>2174</td>\n",
       "      <td>0</td>\n",
       "      <td>40</td>\n",
       "      <td>United-States</td>\n",
       "      <td>&lt;=50K</td>\n",
       "    </tr>\n",
       "    <tr>\n",
       "      <th>1</th>\n",
       "      <td>50</td>\n",
       "      <td>Self-emp-not-inc</td>\n",
       "      <td>83311</td>\n",
       "      <td>Bachelors</td>\n",
       "      <td>13</td>\n",
       "      <td>Married-civ-spouse</td>\n",
       "      <td>Exec-managerial</td>\n",
       "      <td>Husband</td>\n",
       "      <td>White</td>\n",
       "      <td>Male</td>\n",
       "      <td>0</td>\n",
       "      <td>0</td>\n",
       "      <td>13</td>\n",
       "      <td>United-States</td>\n",
       "      <td>&lt;=50K</td>\n",
       "    </tr>\n",
       "    <tr>\n",
       "      <th>2</th>\n",
       "      <td>38</td>\n",
       "      <td>Private</td>\n",
       "      <td>215646</td>\n",
       "      <td>HS-grad</td>\n",
       "      <td>9</td>\n",
       "      <td>Divorced</td>\n",
       "      <td>Handlers-cleaners</td>\n",
       "      <td>Not-in-family</td>\n",
       "      <td>White</td>\n",
       "      <td>Male</td>\n",
       "      <td>0</td>\n",
       "      <td>0</td>\n",
       "      <td>40</td>\n",
       "      <td>United-States</td>\n",
       "      <td>&lt;=50K</td>\n",
       "    </tr>\n",
       "    <tr>\n",
       "      <th>3</th>\n",
       "      <td>53</td>\n",
       "      <td>Private</td>\n",
       "      <td>234721</td>\n",
       "      <td>11th</td>\n",
       "      <td>7</td>\n",
       "      <td>Married-civ-spouse</td>\n",
       "      <td>Handlers-cleaners</td>\n",
       "      <td>Husband</td>\n",
       "      <td>Black</td>\n",
       "      <td>Male</td>\n",
       "      <td>0</td>\n",
       "      <td>0</td>\n",
       "      <td>40</td>\n",
       "      <td>United-States</td>\n",
       "      <td>&lt;=50K</td>\n",
       "    </tr>\n",
       "    <tr>\n",
       "      <th>4</th>\n",
       "      <td>28</td>\n",
       "      <td>Private</td>\n",
       "      <td>338409</td>\n",
       "      <td>Bachelors</td>\n",
       "      <td>13</td>\n",
       "      <td>Married-civ-spouse</td>\n",
       "      <td>Prof-specialty</td>\n",
       "      <td>Wife</td>\n",
       "      <td>Black</td>\n",
       "      <td>Female</td>\n",
       "      <td>0</td>\n",
       "      <td>0</td>\n",
       "      <td>40</td>\n",
       "      <td>Cuba</td>\n",
       "      <td>&lt;=50K</td>\n",
       "    </tr>\n",
       "  </tbody>\n",
       "</table>\n",
       "</div>"
      ],
      "text/plain": [
       "   Age          Workclass  fnlwgt   Education  Education-number  \\\n",
       "0   39          State-gov   77516   Bachelors                13   \n",
       "1   50   Self-emp-not-inc   83311   Bachelors                13   \n",
       "2   38            Private  215646     HS-grad                 9   \n",
       "3   53            Private  234721        11th                 7   \n",
       "4   28            Private  338409   Bachelors                13   \n",
       "\n",
       "        Marital-Status          Occupation    Relationship    Race      Sex  \\\n",
       "0        Never-married        Adm-clerical   Not-in-family   White     Male   \n",
       "1   Married-civ-spouse     Exec-managerial         Husband   White     Male   \n",
       "2             Divorced   Handlers-cleaners   Not-in-family   White     Male   \n",
       "3   Married-civ-spouse   Handlers-cleaners         Husband   Black     Male   \n",
       "4   Married-civ-spouse      Prof-specialty            Wife   Black   Female   \n",
       "\n",
       "   Capital-gain  Capital-loss  Hours-per-week  Native_Country  Salary  \n",
       "0          2174             0              40   United-States   <=50K  \n",
       "1             0             0              13   United-States   <=50K  \n",
       "2             0             0              40   United-States   <=50K  \n",
       "3             0             0              40   United-States   <=50K  \n",
       "4             0             0              40            Cuba   <=50K  "
      ]
     },
     "execution_count": 8,
     "metadata": {},
     "output_type": "execute_result"
    }
   ],
   "source": [
    "data.head()"
   ]
  },
  {
   "cell_type": "code",
   "execution_count": 10,
   "metadata": {},
   "outputs": [
    {
     "data": {
      "text/html": [
       "<div>\n",
       "<table border=\"1\" class=\"dataframe\">\n",
       "  <thead>\n",
       "    <tr style=\"text-align: right;\">\n",
       "      <th></th>\n",
       "      <th>Age</th>\n",
       "      <th>fnlwgt</th>\n",
       "      <th>Education-number</th>\n",
       "      <th>Capital-gain</th>\n",
       "      <th>Capital-loss</th>\n",
       "      <th>Hours-per-week</th>\n",
       "    </tr>\n",
       "  </thead>\n",
       "  <tbody>\n",
       "    <tr>\n",
       "      <th>count</th>\n",
       "      <td>32561.000000</td>\n",
       "      <td>3.256100e+04</td>\n",
       "      <td>32561.000000</td>\n",
       "      <td>32561.000000</td>\n",
       "      <td>32561.000000</td>\n",
       "      <td>32561.000000</td>\n",
       "    </tr>\n",
       "    <tr>\n",
       "      <th>mean</th>\n",
       "      <td>38.581647</td>\n",
       "      <td>1.897784e+05</td>\n",
       "      <td>10.080679</td>\n",
       "      <td>1077.648844</td>\n",
       "      <td>87.303830</td>\n",
       "      <td>40.437456</td>\n",
       "    </tr>\n",
       "    <tr>\n",
       "      <th>std</th>\n",
       "      <td>13.640433</td>\n",
       "      <td>1.055500e+05</td>\n",
       "      <td>2.572720</td>\n",
       "      <td>7385.292085</td>\n",
       "      <td>402.960219</td>\n",
       "      <td>12.347429</td>\n",
       "    </tr>\n",
       "    <tr>\n",
       "      <th>min</th>\n",
       "      <td>17.000000</td>\n",
       "      <td>1.228500e+04</td>\n",
       "      <td>1.000000</td>\n",
       "      <td>0.000000</td>\n",
       "      <td>0.000000</td>\n",
       "      <td>1.000000</td>\n",
       "    </tr>\n",
       "    <tr>\n",
       "      <th>25%</th>\n",
       "      <td>28.000000</td>\n",
       "      <td>1.178270e+05</td>\n",
       "      <td>9.000000</td>\n",
       "      <td>0.000000</td>\n",
       "      <td>0.000000</td>\n",
       "      <td>40.000000</td>\n",
       "    </tr>\n",
       "    <tr>\n",
       "      <th>50%</th>\n",
       "      <td>37.000000</td>\n",
       "      <td>1.783560e+05</td>\n",
       "      <td>10.000000</td>\n",
       "      <td>0.000000</td>\n",
       "      <td>0.000000</td>\n",
       "      <td>40.000000</td>\n",
       "    </tr>\n",
       "    <tr>\n",
       "      <th>75%</th>\n",
       "      <td>48.000000</td>\n",
       "      <td>2.370510e+05</td>\n",
       "      <td>12.000000</td>\n",
       "      <td>0.000000</td>\n",
       "      <td>0.000000</td>\n",
       "      <td>45.000000</td>\n",
       "    </tr>\n",
       "    <tr>\n",
       "      <th>max</th>\n",
       "      <td>90.000000</td>\n",
       "      <td>1.484705e+06</td>\n",
       "      <td>16.000000</td>\n",
       "      <td>99999.000000</td>\n",
       "      <td>4356.000000</td>\n",
       "      <td>99.000000</td>\n",
       "    </tr>\n",
       "  </tbody>\n",
       "</table>\n",
       "</div>"
      ],
      "text/plain": [
       "                Age        fnlwgt  Education-number  Capital-gain  \\\n",
       "count  32561.000000  3.256100e+04      32561.000000  32561.000000   \n",
       "mean      38.581647  1.897784e+05         10.080679   1077.648844   \n",
       "std       13.640433  1.055500e+05          2.572720   7385.292085   \n",
       "min       17.000000  1.228500e+04          1.000000      0.000000   \n",
       "25%       28.000000  1.178270e+05          9.000000      0.000000   \n",
       "50%       37.000000  1.783560e+05         10.000000      0.000000   \n",
       "75%       48.000000  2.370510e+05         12.000000      0.000000   \n",
       "max       90.000000  1.484705e+06         16.000000  99999.000000   \n",
       "\n",
       "       Capital-loss  Hours-per-week  \n",
       "count  32561.000000    32561.000000  \n",
       "mean      87.303830       40.437456  \n",
       "std      402.960219       12.347429  \n",
       "min        0.000000        1.000000  \n",
       "25%        0.000000       40.000000  \n",
       "50%        0.000000       40.000000  \n",
       "75%        0.000000       45.000000  \n",
       "max     4356.000000       99.000000  "
      ]
     },
     "execution_count": 10,
     "metadata": {},
     "output_type": "execute_result"
    }
   ],
   "source": [
    "data.describe()"
   ]
  },
  {
   "cell_type": "markdown",
   "metadata": {},
   "source": [
    "Creating a binary-valued target from the salary attribute:"
   ]
  },
  {
   "cell_type": "code",
   "execution_count": 11,
   "metadata": {
    "collapsed": true
   },
   "outputs": [],
   "source": [
    "def transform(x):\n",
    "    if x==' <=50K':\n",
    "        return 0\n",
    "    else:\n",
    "        return 1\n",
    "    \n",
    "data['Superior_Inferior']=map(transform,data['Salary'])"
   ]
  },
  {
   "cell_type": "markdown",
   "metadata": {},
   "source": [
    "Separating numerical and non-numerical attributes:"
   ]
  },
  {
   "cell_type": "code",
   "execution_count": 12,
   "metadata": {
    "collapsed": true
   },
   "outputs": [],
   "source": [
    "non_numerics = [x for x in data.columns \\\n",
    "                if not (data[x].dtype == np.float64 \\\n",
    "                        or data[x].dtype == np.int64)]\n",
    "\n",
    "numerics= [x for x in data.columns \\\n",
    "                if (data[x].dtype == np.float64 \\\n",
    "                        or data[x].dtype == np.int64)]"
   ]
  },
  {
   "cell_type": "markdown",
   "metadata": {},
   "source": [
    "Studying a certain type of categorical values and seeing if there is a significatn attribute to work on:"
   ]
  },
  {
   "cell_type": "code",
   "execution_count": 13,
   "metadata": {},
   "outputs": [
    {
     "name": "stdout",
     "output_type": "stream",
     "text": [
      "Sex\n",
      "Salary\n"
     ]
    }
   ],
   "source": [
    "vcSeries=[]\n",
    "for el in non_numerics:\n",
    "    if len(data[el].value_counts()) == 2:\n",
    "        print el"
   ]
  },
  {
   "cell_type": "markdown",
   "metadata": {},
   "source": [
    "Checking the values of categorical variables: "
   ]
  },
  {
   "cell_type": "code",
   "execution_count": 14,
   "metadata": {},
   "outputs": [
    {
     "name": "stdout",
     "output_type": "stream",
     "text": [
      " Private             22696\n",
      " Self-emp-not-inc     2541\n",
      " Local-gov            2093\n",
      " ?                    1836\n",
      " State-gov            1298\n",
      " Self-emp-inc         1116\n",
      " Federal-gov           960\n",
      " Without-pay            14\n",
      " Never-worked            7\n",
      "Name: Workclass, dtype: int64\n",
      " HS-grad         10501\n",
      " Some-college     7291\n",
      " Bachelors        5355\n",
      " Masters          1723\n",
      " Assoc-voc        1382\n",
      " 11th             1175\n",
      " Assoc-acdm       1067\n",
      " 10th              933\n",
      " 7th-8th           646\n",
      " Prof-school       576\n",
      " 9th               514\n",
      " 12th              433\n",
      " Doctorate         413\n",
      " 5th-6th           333\n",
      " 1st-4th           168\n",
      " Preschool          51\n",
      "Name: Education, dtype: int64\n",
      " Married-civ-spouse       14976\n",
      " Never-married            10683\n",
      " Divorced                  4443\n",
      " Separated                 1025\n",
      " Widowed                    993\n",
      " Married-spouse-absent      418\n",
      " Married-AF-spouse           23\n",
      "Name: Marital-Status, dtype: int64\n",
      " Prof-specialty       4140\n",
      " Craft-repair         4099\n",
      " Exec-managerial      4066\n",
      " Adm-clerical         3770\n",
      " Sales                3650\n",
      " Other-service        3295\n",
      " Machine-op-inspct    2002\n",
      " ?                    1843\n",
      " Transport-moving     1597\n",
      " Handlers-cleaners    1370\n",
      " Farming-fishing       994\n",
      " Tech-support          928\n",
      " Protective-serv       649\n",
      " Priv-house-serv       149\n",
      " Armed-Forces            9\n",
      "Name: Occupation, dtype: int64\n",
      " Husband           13193\n",
      " Not-in-family      8305\n",
      " Own-child          5068\n",
      " Unmarried          3446\n",
      " Wife               1568\n",
      " Other-relative      981\n",
      "Name: Relationship, dtype: int64\n",
      " White                 27816\n",
      " Black                  3124\n",
      " Asian-Pac-Islander     1039\n",
      " Amer-Indian-Eskimo      311\n",
      " Other                   271\n",
      "Name: Race, dtype: int64\n",
      " Male      21790\n",
      " Female    10771\n",
      "Name: Sex, dtype: int64\n",
      " United-States                 29170\n",
      " Mexico                          643\n",
      " ?                               583\n",
      " Philippines                     198\n",
      " Germany                         137\n",
      " Canada                          121\n",
      " Puerto-Rico                     114\n",
      " El-Salvador                     106\n",
      " India                           100\n",
      " Cuba                             95\n",
      " England                          90\n",
      " Jamaica                          81\n",
      " South                            80\n",
      " China                            75\n",
      " Italy                            73\n",
      " Dominican-Republic               70\n",
      " Vietnam                          67\n",
      " Guatemala                        64\n",
      " Japan                            62\n",
      " Poland                           60\n",
      " Columbia                         59\n",
      " Taiwan                           51\n",
      " Haiti                            44\n",
      " Iran                             43\n",
      " Portugal                         37\n",
      " Nicaragua                        34\n",
      " Peru                             31\n",
      " Greece                           29\n",
      " France                           29\n",
      " Ecuador                          28\n",
      " Ireland                          24\n",
      " Hong                             20\n",
      " Trinadad&Tobago                  19\n",
      " Cambodia                         19\n",
      " Laos                             18\n",
      " Thailand                         18\n",
      " Yugoslavia                       16\n",
      " Outlying-US(Guam-USVI-etc)       14\n",
      " Honduras                         13\n",
      " Hungary                          13\n",
      " Scotland                         12\n",
      " Holand-Netherlands                1\n",
      "Name: Native_Country, dtype: int64\n",
      " <=50K    24720\n",
      " >50K      7841\n",
      "Name: Salary, dtype: int64\n"
     ]
    }
   ],
   "source": [
    "for el in non_numerics:\n",
    "    print data[el].value_counts()"
   ]
  },
  {
   "cell_type": "markdown",
   "metadata": {},
   "source": [
    "Having found a special character to get rid of, let us then filter our data:"
   ]
  },
  {
   "cell_type": "code",
   "execution_count": 15,
   "metadata": {
    "collapsed": true
   },
   "outputs": [],
   "source": [
    "def test(string):\n",
    "    return True if '?' in string else False\n",
    "\n",
    "def return_list_to_filter(non_numerics):\n",
    "    list_to_filter=[]\n",
    "    for el in non_numerics:\n",
    "        if any(test(element) for element in data[el]):\n",
    "            list_to_filter.append(el)\n",
    "    return list_to_filter\n"
   ]
  },
  {
   "cell_type": "code",
   "execution_count": 101,
   "metadata": {},
   "outputs": [
    {
     "data": {
      "text/html": [
       "<div>\n",
       "<table border=\"1\" class=\"dataframe\">\n",
       "  <thead>\n",
       "    <tr style=\"text-align: right;\">\n",
       "      <th></th>\n",
       "      <th>Age</th>\n",
       "      <th>Workclass</th>\n",
       "      <th>fnlwgt</th>\n",
       "      <th>Education</th>\n",
       "      <th>Education-number</th>\n",
       "      <th>Marital-Status</th>\n",
       "      <th>Occupation</th>\n",
       "      <th>Relationship</th>\n",
       "      <th>Race</th>\n",
       "      <th>Sex</th>\n",
       "      <th>Capital-gain</th>\n",
       "      <th>Capital-loss</th>\n",
       "      <th>Hours-per-week</th>\n",
       "      <th>Native_Country</th>\n",
       "      <th>Salary</th>\n",
       "      <th>Superior_Inferior</th>\n",
       "    </tr>\n",
       "  </thead>\n",
       "  <tbody>\n",
       "    <tr>\n",
       "      <th>0</th>\n",
       "      <td>39</td>\n",
       "      <td>State-gov</td>\n",
       "      <td>77516</td>\n",
       "      <td>Bachelors</td>\n",
       "      <td>13</td>\n",
       "      <td>Never-married</td>\n",
       "      <td>Adm-clerical</td>\n",
       "      <td>Not-in-family</td>\n",
       "      <td>White</td>\n",
       "      <td>Male</td>\n",
       "      <td>2174</td>\n",
       "      <td>0</td>\n",
       "      <td>40</td>\n",
       "      <td>United-States</td>\n",
       "      <td>&lt;=50K</td>\n",
       "      <td>0</td>\n",
       "    </tr>\n",
       "    <tr>\n",
       "      <th>1</th>\n",
       "      <td>50</td>\n",
       "      <td>Self-emp-not-inc</td>\n",
       "      <td>83311</td>\n",
       "      <td>Bachelors</td>\n",
       "      <td>13</td>\n",
       "      <td>Married-civ-spouse</td>\n",
       "      <td>Exec-managerial</td>\n",
       "      <td>Husband</td>\n",
       "      <td>White</td>\n",
       "      <td>Male</td>\n",
       "      <td>0</td>\n",
       "      <td>0</td>\n",
       "      <td>13</td>\n",
       "      <td>United-States</td>\n",
       "      <td>&lt;=50K</td>\n",
       "      <td>0</td>\n",
       "    </tr>\n",
       "    <tr>\n",
       "      <th>2</th>\n",
       "      <td>38</td>\n",
       "      <td>Private</td>\n",
       "      <td>215646</td>\n",
       "      <td>HS-grad</td>\n",
       "      <td>9</td>\n",
       "      <td>Divorced</td>\n",
       "      <td>Handlers-cleaners</td>\n",
       "      <td>Not-in-family</td>\n",
       "      <td>White</td>\n",
       "      <td>Male</td>\n",
       "      <td>0</td>\n",
       "      <td>0</td>\n",
       "      <td>40</td>\n",
       "      <td>United-States</td>\n",
       "      <td>&lt;=50K</td>\n",
       "      <td>0</td>\n",
       "    </tr>\n",
       "    <tr>\n",
       "      <th>3</th>\n",
       "      <td>53</td>\n",
       "      <td>Private</td>\n",
       "      <td>234721</td>\n",
       "      <td>11th</td>\n",
       "      <td>7</td>\n",
       "      <td>Married-civ-spouse</td>\n",
       "      <td>Handlers-cleaners</td>\n",
       "      <td>Husband</td>\n",
       "      <td>Black</td>\n",
       "      <td>Male</td>\n",
       "      <td>0</td>\n",
       "      <td>0</td>\n",
       "      <td>40</td>\n",
       "      <td>United-States</td>\n",
       "      <td>&lt;=50K</td>\n",
       "      <td>0</td>\n",
       "    </tr>\n",
       "    <tr>\n",
       "      <th>4</th>\n",
       "      <td>28</td>\n",
       "      <td>Private</td>\n",
       "      <td>338409</td>\n",
       "      <td>Bachelors</td>\n",
       "      <td>13</td>\n",
       "      <td>Married-civ-spouse</td>\n",
       "      <td>Prof-specialty</td>\n",
       "      <td>Wife</td>\n",
       "      <td>Black</td>\n",
       "      <td>Female</td>\n",
       "      <td>0</td>\n",
       "      <td>0</td>\n",
       "      <td>40</td>\n",
       "      <td>Cuba</td>\n",
       "      <td>&lt;=50K</td>\n",
       "      <td>0</td>\n",
       "    </tr>\n",
       "  </tbody>\n",
       "</table>\n",
       "</div>"
      ],
      "text/plain": [
       "   Age          Workclass  fnlwgt   Education  Education-number  \\\n",
       "0   39          State-gov   77516   Bachelors                13   \n",
       "1   50   Self-emp-not-inc   83311   Bachelors                13   \n",
       "2   38            Private  215646     HS-grad                 9   \n",
       "3   53            Private  234721        11th                 7   \n",
       "4   28            Private  338409   Bachelors                13   \n",
       "\n",
       "        Marital-Status          Occupation    Relationship    Race     Sex  \\\n",
       "0        Never-married        Adm-clerical   Not-in-family   White    Male   \n",
       "1   Married-civ-spouse     Exec-managerial         Husband   White    Male   \n",
       "2             Divorced   Handlers-cleaners   Not-in-family   White    Male   \n",
       "3   Married-civ-spouse   Handlers-cleaners         Husband   Black    Male   \n",
       "4   Married-civ-spouse      Prof-specialty            Wife   Black  Female   \n",
       "\n",
       "   Capital-gain  Capital-loss  Hours-per-week  Native_Country Salary  \\\n",
       "0          2174             0              40   United-States  <=50K   \n",
       "1             0             0              13   United-States  <=50K   \n",
       "2             0             0              40   United-States  <=50K   \n",
       "3             0             0              40   United-States  <=50K   \n",
       "4             0             0              40            Cuba  <=50K   \n",
       "\n",
       "   Superior_Inferior  \n",
       "0                  0  \n",
       "1                  0  \n",
       "2                  0  \n",
       "3                  0  \n",
       "4                  0  "
      ]
     },
     "execution_count": 101,
     "metadata": {},
     "output_type": "execute_result"
    }
   ],
   "source": [
    "def filter_string(string):\n",
    "    return False if '?' in string else True\n",
    "\n",
    "data=data[map(filter_string,list(data.Workclass))]\n",
    "data=data[map(filter_string,list(data.Occupation))]\n",
    "data=data[map(filter_string,list(data.Native_Country))]\n",
    "data.head()"
   ]
  },
  {
   "cell_type": "code",
   "execution_count": 17,
   "metadata": {},
   "outputs": [
    {
     "data": {
      "text/plain": [
       "[]"
      ]
     },
     "execution_count": 17,
     "metadata": {},
     "output_type": "execute_result"
    }
   ],
   "source": [
    "#To test if our categorical data is perfeclty filtered\n",
    "return_list_to_filter(non_numerics)"
   ]
  },
  {
   "cell_type": "code",
   "execution_count": 18,
   "metadata": {},
   "outputs": [
    {
     "data": {
      "text/plain": [
       "[]"
      ]
     },
     "execution_count": 18,
     "metadata": {},
     "output_type": "execute_result"
    }
   ],
   "source": [
    "#Make sure our numerical data do not contain non-numerical values\n",
    "def filter_int_attributes(numerics):\n",
    "    list_to_filter=[]\n",
    "    for el in numerics:\n",
    "        if not sum(data[el].notnull())==len(data):\n",
    "            list_to_filter.append(el)\n",
    "    return list_to_filter\n",
    "        \n",
    "filter_int_attributes(numerics)    "
   ]
  },
  {
   "cell_type": "markdown",
   "metadata": {},
   "source": [
    "Checking the Salary distribution:"
   ]
  },
  {
   "cell_type": "code",
   "execution_count": 19,
   "metadata": {},
   "outputs": [
    {
     "data": {
      "text/plain": [
       " <=50K    22654\n",
       " >50K      7508\n",
       "Name: Salary, dtype: int64"
      ]
     },
     "execution_count": 19,
     "metadata": {},
     "output_type": "execute_result"
    }
   ],
   "source": [
    "data['Salary'].value_counts()"
   ]
  },
  {
   "cell_type": "code",
   "execution_count": 20,
   "metadata": {
    "collapsed": true
   },
   "outputs": [],
   "source": [
    "data[\"Sex\"]=data['Sex'].map(lambda x:x.replace(\" \",\"\"))\n",
    "data[\"Salary\"]=data['Salary'].map(lambda x:x.replace(\" \",\"\"))"
   ]
  },
  {
   "cell_type": "markdown",
   "metadata": {},
   "source": [
    "Male Salary distribution:"
   ]
  },
  {
   "cell_type": "code",
   "execution_count": 21,
   "metadata": {},
   "outputs": [
    {
     "data": {
      "text/plain": [
       "<=50K    13984\n",
       ">50K      6396\n",
       "Name: Salary, dtype: int64"
      ]
     },
     "execution_count": 21,
     "metadata": {},
     "output_type": "execute_result"
    }
   ],
   "source": [
    "data[data['Sex']=='Male']['Salary'].value_counts()"
   ]
  },
  {
   "cell_type": "markdown",
   "metadata": {},
   "source": [
    "Female Salary distribution:"
   ]
  },
  {
   "cell_type": "code",
   "execution_count": 22,
   "metadata": {},
   "outputs": [
    {
     "data": {
      "text/plain": [
       "<=50K    8670\n",
       ">50K     1112\n",
       "Name: Salary, dtype: int64"
      ]
     },
     "execution_count": 22,
     "metadata": {},
     "output_type": "execute_result"
    }
   ],
   "source": [
    "data[data['Sex']=='Female']['Salary'].value_counts()"
   ]
  },
  {
   "cell_type": "code",
   "execution_count": 23,
   "metadata": {},
   "outputs": [
    {
     "name": "stderr",
     "output_type": "stream",
     "text": [
      "/usr/local/lib/python2.7/dist-packages/IPython/core/interactiveshell.py:2881: FutureWarning: \n",
      "mpl_style had been deprecated and will be removed in a future version.\n",
      "Use `matplotlib.pyplot.style.use` instead.\n",
      "\n",
      "  exec(code_obj, self.user_global_ns, self.user_ns)\n"
     ]
    }
   ],
   "source": [
    "#Salary distribution\n",
    "import matplotlib.pyplot as plt\n",
    "pd.options.display.mpl_style = 'default'"
   ]
  },
  {
   "cell_type": "markdown",
   "metadata": {},
   "source": [
    "Studying the attributes after separating each of the Salary target ( above 50k or under 50k ):"
   ]
  },
  {
   "cell_type": "code",
   "execution_count": 24,
   "metadata": {},
   "outputs": [
    {
     "data": {
      "text/plain": [
       "Superior_Inferior\n",
       "0    [[Axes(0.125,0.670278;0.336957x0.209722), Axes...\n",
       "1    [[Axes(0.125,0.670278;0.336957x0.209722), Axes...\n",
       "dtype: object"
      ]
     },
     "execution_count": 24,
     "metadata": {},
     "output_type": "execute_result"
    },
    {
     "name": "stderr",
     "output_type": "stream",
     "text": [
      "/usr/local/lib/python2.7/dist-packages/matplotlib/font_manager.py:1297: UserWarning: findfont: Font family [u'monospace'] not found. Falling back to DejaVu Sans\n",
      "  (prop.get_family(), self.defaultFamily[fontext]))\n"
     ]
    },
    {
     "data": {
      "image/png": "[encoded data removed]",
      "text/plain": [
       "<matplotlib.figure.Figure at 0x7fdc2c6f1f90>"
      ]
     },
     "metadata": {},
     "output_type": "display_data"
    },
    {
     "data": {
      "image/png": "[encoded data removed]",
      "text/plain": [
       "<matplotlib.figure.Figure at 0x7fdc28d75750>"
      ]
     },
     "metadata": {},
     "output_type": "display_data"
    }
   ],
   "source": [
    "data.groupby('Superior_Inferior').hist()"
   ]
  },
  {
   "cell_type": "markdown",
   "metadata": {},
   "source": [
    "Let us study the correlations between the variables:"
   ]
  },
  {
   "cell_type": "code",
   "execution_count": 25,
   "metadata": {},
   "outputs": [
    {
     "name": "stderr",
     "output_type": "stream",
     "text": [
      "/usr/local/lib/python2.7/dist-packages/IPython/html.py:14: ShimWarning: The `IPython.html` package has been deprecated since IPython 4.0. You should import from `notebook` instead. `IPython.html.widgets` has moved to `ipywidgets`.\n",
      "  \"`IPython.html.widgets` has moved to `ipywidgets`.\", ShimWarning)\n"
     ]
    },
    {
     "data": {
      "text/plain": [
       "<matplotlib.axes._subplots.AxesSubplot at 0x7fdc1fdc33d0>"
      ]
     },
     "execution_count": 25,
     "metadata": {},
     "output_type": "execute_result"
    },
    {
     "data": {
      "image/png": "[encoded data removed]",
      "text/plain": [
       "<matplotlib.figure.Figure at 0x7fdc1fda9d90>"
      ]
     },
     "metadata": {},
     "output_type": "display_data"
    }
   ],
   "source": [
    "import seaborn as sns\n",
    "corr = data.corr()\n",
    "\n",
    "# plot the heatmap\n",
    "sns.heatmap(corr)"
   ]
  },
  {
   "cell_type": "markdown",
   "metadata": {},
   "source": [
    "It appears that there are no significant correlations to take into account. We shall then continue with all the variables to build our models: "
   ]
  },
  {
   "cell_type": "code",
   "execution_count": 26,
   "metadata": {},
   "outputs": [
    {
     "data": {
      "text/html": [
       "\n",
       "        <style  type=\"text/css\" >\n",
       "        \n",
       "            #T_b2383b80_ac2d_11e7_a4d3_183da2fd3c9d th {\n",
       "            \n",
       "                font-size: 10pt;\n",
       "            \n",
       "            }\n",
       "        \n",
       "            #T_b2383b80_ac2d_11e7_a4d3_183da2fd3c9d td {\n",
       "            \n",
       "                padding: 0em 0em;\n",
       "            \n",
       "            }\n",
       "        \n",
       "            #T_b2383b80_ac2d_11e7_a4d3_183da2fd3c9d th:hover {\n",
       "            \n",
       "                font-size: 15pt;\n",
       "            \n",
       "            }\n",
       "        \n",
       "            #T_b2383b80_ac2d_11e7_a4d3_183da2fd3c9d tr:hover td:hover {\n",
       "            \n",
       "                max-width: 200px;\n",
       "            \n",
       "                font-size: 12pt;\n",
       "            \n",
       "            }\n",
       "        \n",
       "        \n",
       "            #T_b2383b80_ac2d_11e7_a4d3_183da2fd3c9drow0_col0 {\n",
       "            \n",
       "                background-color:  #4479bb;\n",
       "            \n",
       "                max-width:  150px;\n",
       "            \n",
       "                font-size:  15pt;\n",
       "            \n",
       "            }\n",
       "        \n",
       "            #T_b2383b80_ac2d_11e7_a4d3_183da2fd3c9drow0_col1 {\n",
       "            \n",
       "                background-color:  #d73c5b;\n",
       "            \n",
       "                max-width:  150px;\n",
       "            \n",
       "                font-size:  15pt;\n",
       "            \n",
       "            }\n",
       "        \n",
       "            #T_b2383b80_ac2d_11e7_a4d3_183da2fd3c9drow0_col2 {\n",
       "            \n",
       "                background-color:  #df637c;\n",
       "            \n",
       "                max-width:  150px;\n",
       "            \n",
       "                font-size:  15pt;\n",
       "            \n",
       "            }\n",
       "        \n",
       "            #T_b2383b80_ac2d_11e7_a4d3_183da2fd3c9drow0_col3 {\n",
       "            \n",
       "                background-color:  #e27087;\n",
       "            \n",
       "                max-width:  150px;\n",
       "            \n",
       "                font-size:  15pt;\n",
       "            \n",
       "            }\n",
       "        \n",
       "            #T_b2383b80_ac2d_11e7_a4d3_183da2fd3c9drow0_col4 {\n",
       "            \n",
       "                background-color:  #e16981;\n",
       "            \n",
       "                max-width:  150px;\n",
       "            \n",
       "                font-size:  15pt;\n",
       "            \n",
       "            }\n",
       "        \n",
       "            #T_b2383b80_ac2d_11e7_a4d3_183da2fd3c9drow0_col5 {\n",
       "            \n",
       "                background-color:  #e3788d;\n",
       "            \n",
       "                max-width:  150px;\n",
       "            \n",
       "                font-size:  15pt;\n",
       "            \n",
       "            }\n",
       "        \n",
       "            #T_b2383b80_ac2d_11e7_a4d3_183da2fd3c9drow0_col6 {\n",
       "            \n",
       "                background-color:  #eda7b5;\n",
       "            \n",
       "                max-width:  150px;\n",
       "            \n",
       "                font-size:  15pt;\n",
       "            \n",
       "            }\n",
       "        \n",
       "            #T_b2383b80_ac2d_11e7_a4d3_183da2fd3c9drow1_col0 {\n",
       "            \n",
       "                background-color:  #d73c5b;\n",
       "            \n",
       "                max-width:  150px;\n",
       "            \n",
       "                font-size:  15pt;\n",
       "            \n",
       "            }\n",
       "        \n",
       "            #T_b2383b80_ac2d_11e7_a4d3_183da2fd3c9drow1_col1 {\n",
       "            \n",
       "                background-color:  #4479bb;\n",
       "            \n",
       "                max-width:  150px;\n",
       "            \n",
       "                font-size:  15pt;\n",
       "            \n",
       "            }\n",
       "        \n",
       "            #T_b2383b80_ac2d_11e7_a4d3_183da2fd3c9drow1_col2 {\n",
       "            \n",
       "                background-color:  #d94563;\n",
       "            \n",
       "                max-width:  150px;\n",
       "            \n",
       "                font-size:  15pt;\n",
       "            \n",
       "            }\n",
       "        \n",
       "            #T_b2383b80_ac2d_11e7_a4d3_183da2fd3c9drow1_col3 {\n",
       "            \n",
       "                background-color:  #dc5570;\n",
       "            \n",
       "                max-width:  150px;\n",
       "            \n",
       "                font-size:  15pt;\n",
       "            \n",
       "            }\n",
       "        \n",
       "            #T_b2383b80_ac2d_11e7_a4d3_183da2fd3c9drow1_col4 {\n",
       "            \n",
       "                background-color:  #dc516d;\n",
       "            \n",
       "                max-width:  150px;\n",
       "            \n",
       "                font-size:  15pt;\n",
       "            \n",
       "            }\n",
       "        \n",
       "            #T_b2383b80_ac2d_11e7_a4d3_183da2fd3c9drow1_col5 {\n",
       "            \n",
       "                background-color:  #db4d69;\n",
       "            \n",
       "                max-width:  150px;\n",
       "            \n",
       "                font-size:  15pt;\n",
       "            \n",
       "            }\n",
       "        \n",
       "            #T_b2383b80_ac2d_11e7_a4d3_183da2fd3c9drow1_col6 {\n",
       "            \n",
       "                background-color:  #dc526e;\n",
       "            \n",
       "                max-width:  150px;\n",
       "            \n",
       "                font-size:  15pt;\n",
       "            \n",
       "            }\n",
       "        \n",
       "            #T_b2383b80_ac2d_11e7_a4d3_183da2fd3c9drow2_col0 {\n",
       "            \n",
       "                background-color:  #dd5a74;\n",
       "            \n",
       "                max-width:  150px;\n",
       "            \n",
       "                font-size:  15pt;\n",
       "            \n",
       "            }\n",
       "        \n",
       "            #T_b2383b80_ac2d_11e7_a4d3_183da2fd3c9drow2_col1 {\n",
       "            \n",
       "                background-color:  #d73c5b;\n",
       "            \n",
       "                max-width:  150px;\n",
       "            \n",
       "                font-size:  15pt;\n",
       "            \n",
       "            }\n",
       "        \n",
       "            #T_b2383b80_ac2d_11e7_a4d3_183da2fd3c9drow2_col2 {\n",
       "            \n",
       "                background-color:  #4479bb;\n",
       "            \n",
       "                max-width:  150px;\n",
       "            \n",
       "                font-size:  15pt;\n",
       "            \n",
       "            }\n",
       "        \n",
       "            #T_b2383b80_ac2d_11e7_a4d3_183da2fd3c9drow2_col3 {\n",
       "            \n",
       "                background-color:  #e3768c;\n",
       "            \n",
       "                max-width:  150px;\n",
       "            \n",
       "                font-size:  15pt;\n",
       "            \n",
       "            }\n",
       "        \n",
       "            #T_b2383b80_ac2d_11e7_a4d3_183da2fd3c9drow2_col4 {\n",
       "            \n",
       "                background-color:  #e0667e;\n",
       "            \n",
       "                max-width:  150px;\n",
       "            \n",
       "                font-size:  15pt;\n",
       "            \n",
       "            }\n",
       "        \n",
       "            #T_b2383b80_ac2d_11e7_a4d3_183da2fd3c9drow2_col5 {\n",
       "            \n",
       "                background-color:  #e58094;\n",
       "            \n",
       "                max-width:  150px;\n",
       "            \n",
       "                font-size:  15pt;\n",
       "            \n",
       "            }\n",
       "        \n",
       "            #T_b2383b80_ac2d_11e7_a4d3_183da2fd3c9drow2_col6 {\n",
       "            \n",
       "                background-color:  #f2c1cb;\n",
       "            \n",
       "                max-width:  150px;\n",
       "            \n",
       "                font-size:  15pt;\n",
       "            \n",
       "            }\n",
       "        \n",
       "            #T_b2383b80_ac2d_11e7_a4d3_183da2fd3c9drow3_col0 {\n",
       "            \n",
       "                background-color:  #df627b;\n",
       "            \n",
       "                max-width:  150px;\n",
       "            \n",
       "                font-size:  15pt;\n",
       "            \n",
       "            }\n",
       "        \n",
       "            #T_b2383b80_ac2d_11e7_a4d3_183da2fd3c9drow3_col1 {\n",
       "            \n",
       "                background-color:  #d94764;\n",
       "            \n",
       "                max-width:  150px;\n",
       "            \n",
       "                font-size:  15pt;\n",
       "            \n",
       "            }\n",
       "        \n",
       "            #T_b2383b80_ac2d_11e7_a4d3_183da2fd3c9drow3_col2 {\n",
       "            \n",
       "                background-color:  #e27288;\n",
       "            \n",
       "                max-width:  150px;\n",
       "            \n",
       "                font-size:  15pt;\n",
       "            \n",
       "            }\n",
       "        \n",
       "            #T_b2383b80_ac2d_11e7_a4d3_183da2fd3c9drow3_col3 {\n",
       "            \n",
       "                background-color:  #4479bb;\n",
       "            \n",
       "                max-width:  150px;\n",
       "            \n",
       "                font-size:  15pt;\n",
       "            \n",
       "            }\n",
       "        \n",
       "            #T_b2383b80_ac2d_11e7_a4d3_183da2fd3c9drow3_col4 {\n",
       "            \n",
       "                background-color:  #d73c5b;\n",
       "            \n",
       "                max-width:  150px;\n",
       "            \n",
       "                font-size:  15pt;\n",
       "            \n",
       "            }\n",
       "        \n",
       "            #T_b2383b80_ac2d_11e7_a4d3_183da2fd3c9drow3_col5 {\n",
       "            \n",
       "                background-color:  #df627b;\n",
       "            \n",
       "                max-width:  150px;\n",
       "            \n",
       "                font-size:  15pt;\n",
       "            \n",
       "            }\n",
       "        \n",
       "            #T_b2383b80_ac2d_11e7_a4d3_183da2fd3c9drow3_col6 {\n",
       "            \n",
       "                background-color:  #e994a5;\n",
       "            \n",
       "                max-width:  150px;\n",
       "            \n",
       "                font-size:  15pt;\n",
       "            \n",
       "            }\n",
       "        \n",
       "            #T_b2383b80_ac2d_11e7_a4d3_183da2fd3c9drow4_col0 {\n",
       "            \n",
       "                background-color:  #de5b75;\n",
       "            \n",
       "                max-width:  150px;\n",
       "            \n",
       "                font-size:  15pt;\n",
       "            \n",
       "            }\n",
       "        \n",
       "            #T_b2383b80_ac2d_11e7_a4d3_183da2fd3c9drow4_col1 {\n",
       "            \n",
       "                background-color:  #d94261;\n",
       "            \n",
       "                max-width:  150px;\n",
       "            \n",
       "                font-size:  15pt;\n",
       "            \n",
       "            }\n",
       "        \n",
       "            #T_b2383b80_ac2d_11e7_a4d3_183da2fd3c9drow4_col2 {\n",
       "            \n",
       "                background-color:  #df627b;\n",
       "            \n",
       "                max-width:  150px;\n",
       "            \n",
       "                font-size:  15pt;\n",
       "            \n",
       "            }\n",
       "        \n",
       "            #T_b2383b80_ac2d_11e7_a4d3_183da2fd3c9drow4_col3 {\n",
       "            \n",
       "                background-color:  #d73c5b;\n",
       "            \n",
       "                max-width:  150px;\n",
       "            \n",
       "                font-size:  15pt;\n",
       "            \n",
       "            }\n",
       "        \n",
       "            #T_b2383b80_ac2d_11e7_a4d3_183da2fd3c9drow4_col4 {\n",
       "            \n",
       "                background-color:  #4479bb;\n",
       "            \n",
       "                max-width:  150px;\n",
       "            \n",
       "                font-size:  15pt;\n",
       "            \n",
       "            }\n",
       "        \n",
       "            #T_b2383b80_ac2d_11e7_a4d3_183da2fd3c9drow4_col5 {\n",
       "            \n",
       "                background-color:  #dd5872;\n",
       "            \n",
       "                max-width:  150px;\n",
       "            \n",
       "                font-size:  15pt;\n",
       "            \n",
       "            }\n",
       "        \n",
       "            #T_b2383b80_ac2d_11e7_a4d3_183da2fd3c9drow4_col6 {\n",
       "            \n",
       "                background-color:  #e47c91;\n",
       "            \n",
       "                max-width:  150px;\n",
       "            \n",
       "                font-size:  15pt;\n",
       "            \n",
       "            }\n",
       "        \n",
       "            #T_b2383b80_ac2d_11e7_a4d3_183da2fd3c9drow5_col0 {\n",
       "            \n",
       "                background-color:  #e06880;\n",
       "            \n",
       "                max-width:  150px;\n",
       "            \n",
       "                font-size:  15pt;\n",
       "            \n",
       "            }\n",
       "        \n",
       "            #T_b2383b80_ac2d_11e7_a4d3_183da2fd3c9drow5_col1 {\n",
       "            \n",
       "                background-color:  #d73c5b;\n",
       "            \n",
       "                max-width:  150px;\n",
       "            \n",
       "                font-size:  15pt;\n",
       "            \n",
       "            }\n",
       "        \n",
       "            #T_b2383b80_ac2d_11e7_a4d3_183da2fd3c9drow5_col2 {\n",
       "            \n",
       "                background-color:  #e4798e;\n",
       "            \n",
       "                max-width:  150px;\n",
       "            \n",
       "                font-size:  15pt;\n",
       "            \n",
       "            }\n",
       "        \n",
       "            #T_b2383b80_ac2d_11e7_a4d3_183da2fd3c9drow5_col3 {\n",
       "            \n",
       "                background-color:  #de5f79;\n",
       "            \n",
       "                max-width:  150px;\n",
       "            \n",
       "                font-size:  15pt;\n",
       "            \n",
       "            }\n",
       "        \n",
       "            #T_b2383b80_ac2d_11e7_a4d3_183da2fd3c9drow5_col4 {\n",
       "            \n",
       "                background-color:  #dc5570;\n",
       "            \n",
       "                max-width:  150px;\n",
       "            \n",
       "                font-size:  15pt;\n",
       "            \n",
       "            }\n",
       "        \n",
       "            #T_b2383b80_ac2d_11e7_a4d3_183da2fd3c9drow5_col5 {\n",
       "            \n",
       "                background-color:  #4479bb;\n",
       "            \n",
       "                max-width:  150px;\n",
       "            \n",
       "                font-size:  15pt;\n",
       "            \n",
       "            }\n",
       "        \n",
       "            #T_b2383b80_ac2d_11e7_a4d3_183da2fd3c9drow5_col6 {\n",
       "            \n",
       "                background-color:  #ea96a7;\n",
       "            \n",
       "                max-width:  150px;\n",
       "            \n",
       "                font-size:  15pt;\n",
       "            \n",
       "            }\n",
       "        \n",
       "            #T_b2383b80_ac2d_11e7_a4d3_183da2fd3c9drow6_col0 {\n",
       "            \n",
       "                background-color:  #ea96a7;\n",
       "            \n",
       "                max-width:  150px;\n",
       "            \n",
       "                font-size:  15pt;\n",
       "            \n",
       "            }\n",
       "        \n",
       "            #T_b2383b80_ac2d_11e7_a4d3_183da2fd3c9drow6_col1 {\n",
       "            \n",
       "                background-color:  #d73c5b;\n",
       "            \n",
       "                max-width:  150px;\n",
       "            \n",
       "                font-size:  15pt;\n",
       "            \n",
       "            }\n",
       "        \n",
       "            #T_b2383b80_ac2d_11e7_a4d3_183da2fd3c9drow6_col2 {\n",
       "            \n",
       "                background-color:  #f1b8c3;\n",
       "            \n",
       "                max-width:  150px;\n",
       "            \n",
       "                font-size:  15pt;\n",
       "            \n",
       "            }\n",
       "        \n",
       "            #T_b2383b80_ac2d_11e7_a4d3_183da2fd3c9drow6_col3 {\n",
       "            \n",
       "                background-color:  #e88ea0;\n",
       "            \n",
       "                max-width:  150px;\n",
       "            \n",
       "                font-size:  15pt;\n",
       "            \n",
       "            }\n",
       "        \n",
       "            #T_b2383b80_ac2d_11e7_a4d3_183da2fd3c9drow6_col4 {\n",
       "            \n",
       "                background-color:  #e3748a;\n",
       "            \n",
       "                max-width:  150px;\n",
       "            \n",
       "                font-size:  15pt;\n",
       "            \n",
       "            }\n",
       "        \n",
       "            #T_b2383b80_ac2d_11e7_a4d3_183da2fd3c9drow6_col5 {\n",
       "            \n",
       "                background-color:  #e991a3;\n",
       "            \n",
       "                max-width:  150px;\n",
       "            \n",
       "                font-size:  15pt;\n",
       "            \n",
       "            }\n",
       "        \n",
       "            #T_b2383b80_ac2d_11e7_a4d3_183da2fd3c9drow6_col6 {\n",
       "            \n",
       "                background-color:  #4479bb;\n",
       "            \n",
       "                max-width:  150px;\n",
       "            \n",
       "                font-size:  15pt;\n",
       "            \n",
       "            }\n",
       "        \n",
       "        </style>\n",
       "\n",
       "        <table id=\"T_b2383b80_ac2d_11e7_a4d3_183da2fd3c9d\" None>\n",
       "        \n",
       "\n",
       "        <thead>\n",
       "            \n",
       "            <tr>\n",
       "                \n",
       "                \n",
       "                <th class=\"blank level0\" >\n",
       "                  \n",
       "                \n",
       "                \n",
       "                \n",
       "                <th class=\"col_heading level0 col0\" colspan=1>\n",
       "                  Age\n",
       "                \n",
       "                \n",
       "                \n",
       "                <th class=\"col_heading level0 col1\" colspan=1>\n",
       "                  fnlwgt\n",
       "                \n",
       "                \n",
       "                \n",
       "                <th class=\"col_heading level0 col2\" colspan=1>\n",
       "                  Education-number\n",
       "                \n",
       "                \n",
       "                \n",
       "                <th class=\"col_heading level0 col3\" colspan=1>\n",
       "                  Capital-gain\n",
       "                \n",
       "                \n",
       "                \n",
       "                <th class=\"col_heading level0 col4\" colspan=1>\n",
       "                  Capital-loss\n",
       "                \n",
       "                \n",
       "                \n",
       "                <th class=\"col_heading level0 col5\" colspan=1>\n",
       "                  Hours-per-week\n",
       "                \n",
       "                \n",
       "                \n",
       "                <th class=\"col_heading level0 col6\" colspan=1>\n",
       "                  Superior_Inferior\n",
       "                \n",
       "                \n",
       "            </tr>\n",
       "            \n",
       "        </thead>\n",
       "        <tbody>\n",
       "            \n",
       "            <tr>\n",
       "                \n",
       "                \n",
       "                <th id=\"T_b2383b80_ac2d_11e7_a4d3_183da2fd3c9d\"\n",
       "                 class=\"row_heading level0 row0\" rowspan=1>\n",
       "                    Age\n",
       "                \n",
       "                \n",
       "                \n",
       "                <td id=\"T_b2383b80_ac2d_11e7_a4d3_183da2fd3c9drow0_col0\"\n",
       "                 class=\"data row0 col0\" >\n",
       "                    1\n",
       "                \n",
       "                \n",
       "                \n",
       "                <td id=\"T_b2383b80_ac2d_11e7_a4d3_183da2fd3c9drow0_col1\"\n",
       "                 class=\"data row0 col1\" >\n",
       "                    -0.077\n",
       "                \n",
       "                \n",
       "                \n",
       "                <td id=\"T_b2383b80_ac2d_11e7_a4d3_183da2fd3c9drow0_col2\"\n",
       "                 class=\"data row0 col2\" >\n",
       "                    0.044\n",
       "                \n",
       "                \n",
       "                \n",
       "                <td id=\"T_b2383b80_ac2d_11e7_a4d3_183da2fd3c9drow0_col3\"\n",
       "                 class=\"data row0 col3\" >\n",
       "                    0.08\n",
       "                \n",
       "                \n",
       "                \n",
       "                <td id=\"T_b2383b80_ac2d_11e7_a4d3_183da2fd3c9drow0_col4\"\n",
       "                 class=\"data row0 col4\" >\n",
       "                    0.06\n",
       "                \n",
       "                \n",
       "                \n",
       "                <td id=\"T_b2383b80_ac2d_11e7_a4d3_183da2fd3c9drow0_col5\"\n",
       "                 class=\"data row0 col5\" >\n",
       "                    0.1\n",
       "                \n",
       "                \n",
       "                \n",
       "                <td id=\"T_b2383b80_ac2d_11e7_a4d3_183da2fd3c9drow0_col6\"\n",
       "                 class=\"data row0 col6\" >\n",
       "                    0.24\n",
       "                \n",
       "                \n",
       "            </tr>\n",
       "            \n",
       "            <tr>\n",
       "                \n",
       "                \n",
       "                <th id=\"T_b2383b80_ac2d_11e7_a4d3_183da2fd3c9d\"\n",
       "                 class=\"row_heading level0 row1\" rowspan=1>\n",
       "                    fnlwgt\n",
       "                \n",
       "                \n",
       "                \n",
       "                <td id=\"T_b2383b80_ac2d_11e7_a4d3_183da2fd3c9drow1_col0\"\n",
       "                 class=\"data row1 col0\" >\n",
       "                    -0.077\n",
       "                \n",
       "                \n",
       "                \n",
       "                <td id=\"T_b2383b80_ac2d_11e7_a4d3_183da2fd3c9drow1_col1\"\n",
       "                 class=\"data row1 col1\" >\n",
       "                    1\n",
       "                \n",
       "                \n",
       "                \n",
       "                <td id=\"T_b2383b80_ac2d_11e7_a4d3_183da2fd3c9drow1_col2\"\n",
       "                 class=\"data row1 col2\" >\n",
       "                    -0.045\n",
       "                \n",
       "                \n",
       "                \n",
       "                <td id=\"T_b2383b80_ac2d_11e7_a4d3_183da2fd3c9drow1_col3\"\n",
       "                 class=\"data row1 col3\" >\n",
       "                    0.00042\n",
       "                \n",
       "                \n",
       "                \n",
       "                <td id=\"T_b2383b80_ac2d_11e7_a4d3_183da2fd3c9drow1_col4\"\n",
       "                 class=\"data row1 col4\" >\n",
       "                    -0.0097\n",
       "                \n",
       "                \n",
       "                \n",
       "                <td id=\"T_b2383b80_ac2d_11e7_a4d3_183da2fd3c9drow1_col5\"\n",
       "                 class=\"data row1 col5\" >\n",
       "                    -0.023\n",
       "                \n",
       "                \n",
       "                \n",
       "                <td id=\"T_b2383b80_ac2d_11e7_a4d3_183da2fd3c9drow1_col6\"\n",
       "                 class=\"data row1 col6\" >\n",
       "                    -0.009\n",
       "                \n",
       "                \n",
       "            </tr>\n",
       "            \n",
       "            <tr>\n",
       "                \n",
       "                \n",
       "                <th id=\"T_b2383b80_ac2d_11e7_a4d3_183da2fd3c9d\"\n",
       "                 class=\"row_heading level0 row2\" rowspan=1>\n",
       "                    Education-number\n",
       "                \n",
       "                \n",
       "                \n",
       "                <td id=\"T_b2383b80_ac2d_11e7_a4d3_183da2fd3c9drow2_col0\"\n",
       "                 class=\"data row2 col0\" >\n",
       "                    0.044\n",
       "                \n",
       "                \n",
       "                \n",
       "                <td id=\"T_b2383b80_ac2d_11e7_a4d3_183da2fd3c9drow2_col1\"\n",
       "                 class=\"data row2 col1\" >\n",
       "                    -0.045\n",
       "                \n",
       "                \n",
       "                \n",
       "                <td id=\"T_b2383b80_ac2d_11e7_a4d3_183da2fd3c9drow2_col2\"\n",
       "                 class=\"data row2 col2\" >\n",
       "                    1\n",
       "                \n",
       "                \n",
       "                \n",
       "                <td id=\"T_b2383b80_ac2d_11e7_a4d3_183da2fd3c9drow2_col3\"\n",
       "                 class=\"data row2 col3\" >\n",
       "                    0.12\n",
       "                \n",
       "                \n",
       "                \n",
       "                <td id=\"T_b2383b80_ac2d_11e7_a4d3_183da2fd3c9drow2_col4\"\n",
       "                 class=\"data row2 col4\" >\n",
       "                    0.08\n",
       "                \n",
       "                \n",
       "                \n",
       "                <td id=\"T_b2383b80_ac2d_11e7_a4d3_183da2fd3c9drow2_col5\"\n",
       "                 class=\"data row2 col5\" >\n",
       "                    0.15\n",
       "                \n",
       "                \n",
       "                \n",
       "                <td id=\"T_b2383b80_ac2d_11e7_a4d3_183da2fd3c9drow2_col6\"\n",
       "                 class=\"data row2 col6\" >\n",
       "                    0.34\n",
       "                \n",
       "                \n",
       "            </tr>\n",
       "            \n",
       "            <tr>\n",
       "                \n",
       "                \n",
       "                <th id=\"T_b2383b80_ac2d_11e7_a4d3_183da2fd3c9d\"\n",
       "                 class=\"row_heading level0 row3\" rowspan=1>\n",
       "                    Capital-gain\n",
       "                \n",
       "                \n",
       "                \n",
       "                <td id=\"T_b2383b80_ac2d_11e7_a4d3_183da2fd3c9drow3_col0\"\n",
       "                 class=\"data row3 col0\" >\n",
       "                    0.08\n",
       "                \n",
       "                \n",
       "                \n",
       "                <td id=\"T_b2383b80_ac2d_11e7_a4d3_183da2fd3c9drow3_col1\"\n",
       "                 class=\"data row3 col1\" >\n",
       "                    0.00042\n",
       "                \n",
       "                \n",
       "                \n",
       "                <td id=\"T_b2383b80_ac2d_11e7_a4d3_183da2fd3c9drow3_col2\"\n",
       "                 class=\"data row3 col2\" >\n",
       "                    0.12\n",
       "                \n",
       "                \n",
       "                \n",
       "                <td id=\"T_b2383b80_ac2d_11e7_a4d3_183da2fd3c9drow3_col3\"\n",
       "                 class=\"data row3 col3\" >\n",
       "                    1\n",
       "                \n",
       "                \n",
       "                \n",
       "                <td id=\"T_b2383b80_ac2d_11e7_a4d3_183da2fd3c9drow3_col4\"\n",
       "                 class=\"data row3 col4\" >\n",
       "                    -0.032\n",
       "                \n",
       "                \n",
       "                \n",
       "                <td id=\"T_b2383b80_ac2d_11e7_a4d3_183da2fd3c9drow3_col5\"\n",
       "                 class=\"data row3 col5\" >\n",
       "                    0.08\n",
       "                \n",
       "                \n",
       "                \n",
       "                <td id=\"T_b2383b80_ac2d_11e7_a4d3_183da2fd3c9drow3_col6\"\n",
       "                 class=\"data row3 col6\" >\n",
       "                    0.22\n",
       "                \n",
       "                \n",
       "            </tr>\n",
       "            \n",
       "            <tr>\n",
       "                \n",
       "                \n",
       "                <th id=\"T_b2383b80_ac2d_11e7_a4d3_183da2fd3c9d\"\n",
       "                 class=\"row_heading level0 row4\" rowspan=1>\n",
       "                    Capital-loss\n",
       "                \n",
       "                \n",
       "                \n",
       "                <td id=\"T_b2383b80_ac2d_11e7_a4d3_183da2fd3c9drow4_col0\"\n",
       "                 class=\"data row4 col0\" >\n",
       "                    0.06\n",
       "                \n",
       "                \n",
       "                \n",
       "                <td id=\"T_b2383b80_ac2d_11e7_a4d3_183da2fd3c9drow4_col1\"\n",
       "                 class=\"data row4 col1\" >\n",
       "                    -0.0097\n",
       "                \n",
       "                \n",
       "                \n",
       "                <td id=\"T_b2383b80_ac2d_11e7_a4d3_183da2fd3c9drow4_col2\"\n",
       "                 class=\"data row4 col2\" >\n",
       "                    0.08\n",
       "                \n",
       "                \n",
       "                \n",
       "                <td id=\"T_b2383b80_ac2d_11e7_a4d3_183da2fd3c9drow4_col3\"\n",
       "                 class=\"data row4 col3\" >\n",
       "                    -0.032\n",
       "                \n",
       "                \n",
       "                \n",
       "                <td id=\"T_b2383b80_ac2d_11e7_a4d3_183da2fd3c9drow4_col4\"\n",
       "                 class=\"data row4 col4\" >\n",
       "                    1\n",
       "                \n",
       "                \n",
       "                \n",
       "                <td id=\"T_b2383b80_ac2d_11e7_a4d3_183da2fd3c9drow4_col5\"\n",
       "                 class=\"data row4 col5\" >\n",
       "                    0.052\n",
       "                \n",
       "                \n",
       "                \n",
       "                <td id=\"T_b2383b80_ac2d_11e7_a4d3_183da2fd3c9drow4_col6\"\n",
       "                 class=\"data row4 col6\" >\n",
       "                    0.15\n",
       "                \n",
       "                \n",
       "            </tr>\n",
       "            \n",
       "            <tr>\n",
       "                \n",
       "                \n",
       "                <th id=\"T_b2383b80_ac2d_11e7_a4d3_183da2fd3c9d\"\n",
       "                 class=\"row_heading level0 row5\" rowspan=1>\n",
       "                    Hours-per-week\n",
       "                \n",
       "                \n",
       "                \n",
       "                <td id=\"T_b2383b80_ac2d_11e7_a4d3_183da2fd3c9drow5_col0\"\n",
       "                 class=\"data row5 col0\" >\n",
       "                    0.1\n",
       "                \n",
       "                \n",
       "                \n",
       "                <td id=\"T_b2383b80_ac2d_11e7_a4d3_183da2fd3c9drow5_col1\"\n",
       "                 class=\"data row5 col1\" >\n",
       "                    -0.023\n",
       "                \n",
       "                \n",
       "                \n",
       "                <td id=\"T_b2383b80_ac2d_11e7_a4d3_183da2fd3c9drow5_col2\"\n",
       "                 class=\"data row5 col2\" >\n",
       "                    0.15\n",
       "                \n",
       "                \n",
       "                \n",
       "                <td id=\"T_b2383b80_ac2d_11e7_a4d3_183da2fd3c9drow5_col3\"\n",
       "                 class=\"data row5 col3\" >\n",
       "                    0.08\n",
       "                \n",
       "                \n",
       "                \n",
       "                <td id=\"T_b2383b80_ac2d_11e7_a4d3_183da2fd3c9drow5_col4\"\n",
       "                 class=\"data row5 col4\" >\n",
       "                    0.052\n",
       "                \n",
       "                \n",
       "                \n",
       "                <td id=\"T_b2383b80_ac2d_11e7_a4d3_183da2fd3c9drow5_col5\"\n",
       "                 class=\"data row5 col5\" >\n",
       "                    1\n",
       "                \n",
       "                \n",
       "                \n",
       "                <td id=\"T_b2383b80_ac2d_11e7_a4d3_183da2fd3c9drow5_col6\"\n",
       "                 class=\"data row5 col6\" >\n",
       "                    0.23\n",
       "                \n",
       "                \n",
       "            </tr>\n",
       "            \n",
       "            <tr>\n",
       "                \n",
       "                \n",
       "                <th id=\"T_b2383b80_ac2d_11e7_a4d3_183da2fd3c9d\"\n",
       "                 class=\"row_heading level0 row6\" rowspan=1>\n",
       "                    Superior_Inferior\n",
       "                \n",
       "                \n",
       "                \n",
       "                <td id=\"T_b2383b80_ac2d_11e7_a4d3_183da2fd3c9drow6_col0\"\n",
       "                 class=\"data row6 col0\" >\n",
       "                    0.24\n",
       "                \n",
       "                \n",
       "                \n",
       "                <td id=\"T_b2383b80_ac2d_11e7_a4d3_183da2fd3c9drow6_col1\"\n",
       "                 class=\"data row6 col1\" >\n",
       "                    -0.009\n",
       "                \n",
       "                \n",
       "                \n",
       "                <td id=\"T_b2383b80_ac2d_11e7_a4d3_183da2fd3c9drow6_col2\"\n",
       "                 class=\"data row6 col2\" >\n",
       "                    0.34\n",
       "                \n",
       "                \n",
       "                \n",
       "                <td id=\"T_b2383b80_ac2d_11e7_a4d3_183da2fd3c9drow6_col3\"\n",
       "                 class=\"data row6 col3\" >\n",
       "                    0.22\n",
       "                \n",
       "                \n",
       "                \n",
       "                <td id=\"T_b2383b80_ac2d_11e7_a4d3_183da2fd3c9drow6_col4\"\n",
       "                 class=\"data row6 col4\" >\n",
       "                    0.15\n",
       "                \n",
       "                \n",
       "                \n",
       "                <td id=\"T_b2383b80_ac2d_11e7_a4d3_183da2fd3c9drow6_col5\"\n",
       "                 class=\"data row6 col5\" >\n",
       "                    0.23\n",
       "                \n",
       "                \n",
       "                \n",
       "                <td id=\"T_b2383b80_ac2d_11e7_a4d3_183da2fd3c9drow6_col6\"\n",
       "                 class=\"data row6 col6\" >\n",
       "                    1\n",
       "                \n",
       "                \n",
       "            </tr>\n",
       "            \n",
       "        </tbody>\n",
       "        </table>\n",
       "        "
      ],
      "text/plain": [
       "<pandas.formats.style.Styler at 0x7fdc51b74c50>"
      ]
     },
     "execution_count": 26,
     "metadata": {},
     "output_type": "execute_result"
    }
   ],
   "source": [
    "cmap=sns.diverging_palette(5, 250, as_cmap=True)\n",
    "\n",
    "def magnify():\n",
    "    return [dict(selector=\"th\",\n",
    "                 props=[(\"font-size\", \"10pt\")]),\n",
    "            dict(selector=\"td\",\n",
    "                 props=[('padding', \"0em 0em\")]),\n",
    "            dict(selector=\"th:hover\",\n",
    "                 props=[(\"font-size\", \"15pt\")]),\n",
    "            dict(selector=\"tr:hover td:hover\",\n",
    "                 props=[('max-width', '200px'),\n",
    "                        ('font-size', '12pt')])\n",
    "]\n",
    "\n",
    "corr.style.background_gradient(cmap, axis=1)\\\n",
    "    .set_properties(**{'max-width': '150px', 'font-size': '15pt'})\\\n",
    "    .set_precision(2)\\\n",
    "    .set_table_styles(magnify())"
   ]
  },
  {
   "cell_type": "markdown",
   "metadata": {},
   "source": [
    "We will create a function which takes balanced samples of data based on the two values of our target attribute after precising the number of samples :"
   ]
  },
  {
   "cell_type": "code",
   "execution_count": 27,
   "metadata": {
    "collapsed": true
   },
   "outputs": [],
   "source": [
    "from sklearn import manifold, datasets, decomposition, ensemble,discriminant_analysis, random_projection\n",
    "\n",
    "def extract(data,N_Samples):\n",
    "\n",
    "    ## Sample balanced data\n",
    "    first_part=data[data['Superior_Inferior']==0][:N_Samples/2]\n",
    "    second_part=data[data['Superior_Inferior']==1][:N_Samples/2]\n",
    "\n",
    "    resampled_data=pd.concat([first_part,second_part],ignore_index=True)\n",
    "    return resampled_data\n"
   ]
  },
  {
   "cell_type": "code",
   "execution_count": 28,
   "metadata": {},
   "outputs": [
    {
     "data": {
      "text/html": [
       "<div>\n",
       "<table border=\"1\" class=\"dataframe\">\n",
       "  <thead>\n",
       "    <tr style=\"text-align: right;\">\n",
       "      <th></th>\n",
       "      <th>index</th>\n",
       "      <th>Age</th>\n",
       "      <th>Workclass</th>\n",
       "      <th>fnlwgt</th>\n",
       "      <th>Education</th>\n",
       "      <th>Education-number</th>\n",
       "      <th>Marital-Status</th>\n",
       "      <th>Occupation</th>\n",
       "      <th>Relationship</th>\n",
       "      <th>Race</th>\n",
       "      <th>Sex</th>\n",
       "      <th>Capital-gain</th>\n",
       "      <th>Capital-loss</th>\n",
       "      <th>Hours-per-week</th>\n",
       "      <th>Native_Country</th>\n",
       "      <th>Salary</th>\n",
       "      <th>Superior_Inferior</th>\n",
       "    </tr>\n",
       "  </thead>\n",
       "  <tbody>\n",
       "    <tr>\n",
       "      <th>0</th>\n",
       "      <td>1566</td>\n",
       "      <td>36</td>\n",
       "      <td>Private</td>\n",
       "      <td>183892</td>\n",
       "      <td>Some-college</td>\n",
       "      <td>10</td>\n",
       "      <td>Married-civ-spouse</td>\n",
       "      <td>Craft-repair</td>\n",
       "      <td>Husband</td>\n",
       "      <td>White</td>\n",
       "      <td>Male</td>\n",
       "      <td>7298</td>\n",
       "      <td>0</td>\n",
       "      <td>44</td>\n",
       "      <td>United-States</td>\n",
       "      <td>&gt;50K</td>\n",
       "      <td>1</td>\n",
       "    </tr>\n",
       "    <tr>\n",
       "      <th>1</th>\n",
       "      <td>589</td>\n",
       "      <td>25</td>\n",
       "      <td>Private</td>\n",
       "      <td>499233</td>\n",
       "      <td>HS-grad</td>\n",
       "      <td>9</td>\n",
       "      <td>Divorced</td>\n",
       "      <td>Adm-clerical</td>\n",
       "      <td>Not-in-family</td>\n",
       "      <td>White</td>\n",
       "      <td>Male</td>\n",
       "      <td>0</td>\n",
       "      <td>0</td>\n",
       "      <td>40</td>\n",
       "      <td>United-States</td>\n",
       "      <td>&lt;=50K</td>\n",
       "      <td>0</td>\n",
       "    </tr>\n",
       "    <tr>\n",
       "      <th>2</th>\n",
       "      <td>255</td>\n",
       "      <td>22</td>\n",
       "      <td>Private</td>\n",
       "      <td>410439</td>\n",
       "      <td>HS-grad</td>\n",
       "      <td>9</td>\n",
       "      <td>Married-spouse-absent</td>\n",
       "      <td>Sales</td>\n",
       "      <td>Not-in-family</td>\n",
       "      <td>White</td>\n",
       "      <td>Male</td>\n",
       "      <td>0</td>\n",
       "      <td>0</td>\n",
       "      <td>55</td>\n",
       "      <td>United-States</td>\n",
       "      <td>&lt;=50K</td>\n",
       "      <td>0</td>\n",
       "    </tr>\n",
       "    <tr>\n",
       "      <th>3</th>\n",
       "      <td>310</td>\n",
       "      <td>23</td>\n",
       "      <td>Private</td>\n",
       "      <td>81281</td>\n",
       "      <td>Some-college</td>\n",
       "      <td>10</td>\n",
       "      <td>Married-civ-spouse</td>\n",
       "      <td>Adm-clerical</td>\n",
       "      <td>Husband</td>\n",
       "      <td>White</td>\n",
       "      <td>Male</td>\n",
       "      <td>0</td>\n",
       "      <td>0</td>\n",
       "      <td>40</td>\n",
       "      <td>United-States</td>\n",
       "      <td>&lt;=50K</td>\n",
       "      <td>0</td>\n",
       "    </tr>\n",
       "    <tr>\n",
       "      <th>4</th>\n",
       "      <td>463</td>\n",
       "      <td>24</td>\n",
       "      <td>Private</td>\n",
       "      <td>556660</td>\n",
       "      <td>HS-grad</td>\n",
       "      <td>9</td>\n",
       "      <td>Never-married</td>\n",
       "      <td>Exec-managerial</td>\n",
       "      <td>Other-relative</td>\n",
       "      <td>White</td>\n",
       "      <td>Male</td>\n",
       "      <td>4101</td>\n",
       "      <td>0</td>\n",
       "      <td>50</td>\n",
       "      <td>United-States</td>\n",
       "      <td>&lt;=50K</td>\n",
       "      <td>0</td>\n",
       "    </tr>\n",
       "  </tbody>\n",
       "</table>\n",
       "</div>"
      ],
      "text/plain": [
       "   index  Age Workclass  fnlwgt      Education  Education-number  \\\n",
       "0   1566   36   Private  183892   Some-college                10   \n",
       "1    589   25   Private  499233        HS-grad                 9   \n",
       "2    255   22   Private  410439        HS-grad                 9   \n",
       "3    310   23   Private   81281   Some-college                10   \n",
       "4    463   24   Private  556660        HS-grad                 9   \n",
       "\n",
       "           Marital-Status        Occupation     Relationship    Race   Sex  \\\n",
       "0      Married-civ-spouse      Craft-repair          Husband   White  Male   \n",
       "1                Divorced      Adm-clerical    Not-in-family   White  Male   \n",
       "2   Married-spouse-absent             Sales    Not-in-family   White  Male   \n",
       "3      Married-civ-spouse      Adm-clerical          Husband   White  Male   \n",
       "4           Never-married   Exec-managerial   Other-relative   White  Male   \n",
       "\n",
       "   Capital-gain  Capital-loss  Hours-per-week  Native_Country Salary  \\\n",
       "0          7298             0              44   United-States   >50K   \n",
       "1             0             0              40   United-States  <=50K   \n",
       "2             0             0              55   United-States  <=50K   \n",
       "3             0             0              40   United-States  <=50K   \n",
       "4          4101             0              50   United-States  <=50K   \n",
       "\n",
       "   Superior_Inferior  \n",
       "0                  1  \n",
       "1                  0  \n",
       "2                  0  \n",
       "3                  0  \n",
       "4                  0  "
      ]
     },
     "execution_count": 28,
     "metadata": {},
     "output_type": "execute_result"
    }
   ],
   "source": [
    "##Shuffle and balance data to make it more random\n",
    "resampled_data=extract(data,2000).sample(frac=1).reset_index(drop=False)\n",
    "resampled_data.head()"
   ]
  },
  {
   "cell_type": "markdown",
   "metadata": {},
   "source": [
    "Splitting our data :"
   ]
  },
  {
   "cell_type": "code",
   "execution_count": 30,
   "metadata": {
    "collapsed": true
   },
   "outputs": [],
   "source": [
    "from sklearn.model_selection import train_test_split\n",
    "\n",
    "input_attributes=[\"Age\",\"Workclass\",\"fnlwgt\",\"Education\",\"Education-number\",\"Marital-Status\",\"Occupation\",\n",
    "      \"Relationship\",\"Race\",\"Sex\",\"Capital-gain\",\"Capital-loss\",\"Hours-per-week\",\"Native_Country\"]\n",
    "\n",
    "train, test = train_test_split(resampled_data, test_size = .15)\n",
    "\n",
    "X_train=train[input_attributes]\n",
    "y_train=train['Superior_Inferior']\n",
    "\n",
    "X_test=test[input_attributes]\n",
    "y_test=test['Superior_Inferior']\n"
   ]
  },
  {
   "cell_type": "markdown",
   "metadata": {},
   "source": [
    "We include numerical attributes to create our model input:"
   ]
  },
  {
   "cell_type": "code",
   "execution_count": 31,
   "metadata": {},
   "outputs": [
    {
     "data": {
      "text/html": [
       "<div>\n",
       "<table border=\"1\" class=\"dataframe\">\n",
       "  <thead>\n",
       "    <tr style=\"text-align: right;\">\n",
       "      <th></th>\n",
       "      <th>Age</th>\n",
       "      <th>Workclass</th>\n",
       "      <th>fnlwgt</th>\n",
       "      <th>Education</th>\n",
       "      <th>Education-number</th>\n",
       "      <th>Marital-Status</th>\n",
       "      <th>Occupation</th>\n",
       "      <th>Relationship</th>\n",
       "      <th>Race</th>\n",
       "      <th>Sex</th>\n",
       "      <th>Capital-gain</th>\n",
       "      <th>Capital-loss</th>\n",
       "      <th>Hours-per-week</th>\n",
       "      <th>Native_Country</th>\n",
       "    </tr>\n",
       "  </thead>\n",
       "  <tbody>\n",
       "    <tr>\n",
       "      <th>121</th>\n",
       "      <td>37</td>\n",
       "      <td>Private</td>\n",
       "      <td>143912</td>\n",
       "      <td>HS-grad</td>\n",
       "      <td>9</td>\n",
       "      <td>Divorced</td>\n",
       "      <td>Transport-moving</td>\n",
       "      <td>Not-in-family</td>\n",
       "      <td>White</td>\n",
       "      <td>Male</td>\n",
       "      <td>0</td>\n",
       "      <td>0</td>\n",
       "      <td>50</td>\n",
       "      <td>United-States</td>\n",
       "    </tr>\n",
       "    <tr>\n",
       "      <th>1316</th>\n",
       "      <td>48</td>\n",
       "      <td>State-gov</td>\n",
       "      <td>55863</td>\n",
       "      <td>Doctorate</td>\n",
       "      <td>16</td>\n",
       "      <td>Married-civ-spouse</td>\n",
       "      <td>Prof-specialty</td>\n",
       "      <td>Wife</td>\n",
       "      <td>White</td>\n",
       "      <td>Female</td>\n",
       "      <td>0</td>\n",
       "      <td>1902</td>\n",
       "      <td>46</td>\n",
       "      <td>United-States</td>\n",
       "    </tr>\n",
       "    <tr>\n",
       "      <th>463</th>\n",
       "      <td>53</td>\n",
       "      <td>Private</td>\n",
       "      <td>346253</td>\n",
       "      <td>HS-grad</td>\n",
       "      <td>9</td>\n",
       "      <td>Divorced</td>\n",
       "      <td>Sales</td>\n",
       "      <td>Own-child</td>\n",
       "      <td>White</td>\n",
       "      <td>Female</td>\n",
       "      <td>0</td>\n",
       "      <td>0</td>\n",
       "      <td>35</td>\n",
       "      <td>United-States</td>\n",
       "    </tr>\n",
       "    <tr>\n",
       "      <th>400</th>\n",
       "      <td>71</td>\n",
       "      <td>Private</td>\n",
       "      <td>269708</td>\n",
       "      <td>Bachelors</td>\n",
       "      <td>13</td>\n",
       "      <td>Divorced</td>\n",
       "      <td>Tech-support</td>\n",
       "      <td>Own-child</td>\n",
       "      <td>White</td>\n",
       "      <td>Female</td>\n",
       "      <td>2329</td>\n",
       "      <td>0</td>\n",
       "      <td>16</td>\n",
       "      <td>United-States</td>\n",
       "    </tr>\n",
       "    <tr>\n",
       "      <th>176</th>\n",
       "      <td>33</td>\n",
       "      <td>Private</td>\n",
       "      <td>182556</td>\n",
       "      <td>Bachelors</td>\n",
       "      <td>13</td>\n",
       "      <td>Married-civ-spouse</td>\n",
       "      <td>Exec-managerial</td>\n",
       "      <td>Husband</td>\n",
       "      <td>White</td>\n",
       "      <td>Male</td>\n",
       "      <td>0</td>\n",
       "      <td>0</td>\n",
       "      <td>40</td>\n",
       "      <td>United-States</td>\n",
       "    </tr>\n",
       "  </tbody>\n",
       "</table>\n",
       "</div>"
      ],
      "text/plain": [
       "      Age   Workclass  fnlwgt   Education  Education-number  \\\n",
       "121    37     Private  143912     HS-grad                 9   \n",
       "1316   48   State-gov   55863   Doctorate                16   \n",
       "463    53     Private  346253     HS-grad                 9   \n",
       "400    71     Private  269708   Bachelors                13   \n",
       "176    33     Private  182556   Bachelors                13   \n",
       "\n",
       "           Marital-Status         Occupation    Relationship    Race     Sex  \\\n",
       "121              Divorced   Transport-moving   Not-in-family   White    Male   \n",
       "1316   Married-civ-spouse     Prof-specialty            Wife   White  Female   \n",
       "463              Divorced              Sales       Own-child   White  Female   \n",
       "400              Divorced       Tech-support       Own-child   White  Female   \n",
       "176    Married-civ-spouse    Exec-managerial         Husband   White    Male   \n",
       "\n",
       "      Capital-gain  Capital-loss  Hours-per-week  Native_Country  \n",
       "121              0             0              50   United-States  \n",
       "1316             0          1902              46   United-States  \n",
       "463              0             0              35   United-States  \n",
       "400           2329             0              16   United-States  \n",
       "176              0             0              40   United-States  "
      ]
     },
     "execution_count": 31,
     "metadata": {},
     "output_type": "execute_result"
    }
   ],
   "source": [
    "numerics_train=['Age','fnlwgt','Education-number','Capital-gain','Capital-loss','Hours-per-week']\n",
    "X_train.head()\n"
   ]
  },
  {
   "cell_type": "markdown",
   "metadata": {},
   "source": [
    "Our first model Support Vector Machines:"
   ]
  },
  {
   "cell_type": "code",
   "execution_count": 32,
   "metadata": {},
   "outputs": [
    {
     "name": "stdout",
     "output_type": "stream",
     "text": [
      "SVM results: \n",
      "('Accuracy for SVM using rbf kernel : ', 0.46333333333333332)\n"
     ]
    }
   ],
   "source": [
    "import matplotlib.pyplot as plt\n",
    "from sklearn import manifold, decomposition \n",
    "\n",
    "from sklearn import svm\n",
    "from sklearn.metrics import accuracy_score, classification_report, confusion_matrix\n",
    "\n",
    "kernels=['rbf']\n",
    "print('SVM results: ')\n",
    "\n",
    "for kernel in kernels:\n",
    "    clf=svm.SVC(kernel=kernel)\n",
    "    clf.fit(X_train[numerics_train],y_train)\n",
    "    pred=clf.predict(X_test[numerics_train])\n",
    "    print('Accuracy for SVM using '+kernel+ ' kernel : ',accuracy_score(pred,y_test))\n"
   ]
  },
  {
   "cell_type": "markdown",
   "metadata": {},
   "source": [
    "We append some of the other linear and non-linear models for our task:"
   ]
  },
  {
   "cell_type": "code",
   "execution_count": 33,
   "metadata": {},
   "outputs": [
    {
     "name": "stdout",
     "output_type": "stream",
     "text": [
      "Multiple classifiers results: \n",
      "RandomForestClassifierG\n",
      "Accuracy for RandomForestClassifierG :  0.726666666667\n",
      "RandomForestClassifierE\n",
      "Accuracy for RandomForestClassifierE :  0.706666666667\n",
      "AdaBoostClassifier\n",
      "Accuracy for AdaBoostClassifier :  0.753333333333\n",
      "ExtraTreesClassifier\n",
      "Accuracy for ExtraTreesClassifier :  0.73\n",
      "DecisionTreeClassifier\n",
      "Accuracy for DecisionTreeClassifier :  0.66\n",
      "MultinomialNB\n",
      "Accuracy for MultinomialNB :  0.613333333333\n",
      "SGDClassifier\n",
      "Accuracy for SGDClassifier :  0.566666666667\n",
      "GradientBoostingClassifier\n",
      "Accuracy for GradientBoostingClassifier :  0.756666666667\n",
      "LinearSVC\n",
      "Accuracy for LinearSVC :  0.463333333333\n"
     ]
    }
   ],
   "source": [
    "from sklearn import svm\n",
    "from sklearn.ensemble import RandomForestClassifier \n",
    "from sklearn.ensemble import AdaBoostClassifier\n",
    "from sklearn.ensemble import ExtraTreesClassifier\n",
    "from sklearn.tree import DecisionTreeClassifier,ExtraTreeClassifier\n",
    "from sklearn.linear_model import LogisticRegression\n",
    "from sklearn.naive_bayes import GaussianNB, BernoulliNB\n",
    "from sklearn.neighbors import KNeighborsClassifier\n",
    "from sklearn.linear_model import SGDClassifier\n",
    "from sklearn.ensemble import RandomForestClassifier\n",
    "from sklearn.linear_model import SGDClassifier, SGDRegressor\n",
    "from sklearn.ensemble import RandomForestClassifier, GradientBoostingClassifier\n",
    "from sklearn.naive_bayes import MultinomialNB\n",
    "from sklearn.metrics import accuracy_score, classification_report, confusion_matrix\n",
    "import time \n",
    "\n",
    "classifiers = [('RandomForestClassifierG', RandomForestClassifier(n_jobs=-1, criterion='gini')),\n",
    "               ('RandomForestClassifierE', RandomForestClassifier(n_jobs=-1, criterion='entropy')),\n",
    "               ('AdaBoostClassifier', AdaBoostClassifier()),\n",
    "               ('ExtraTreesClassifier', ExtraTreesClassifier(n_jobs=-1)),\n",
    "               ('DecisionTreeClassifier', DecisionTreeClassifier()),\n",
    "               ('MultinomialNB', MultinomialNB(alpha=0.001)), \n",
    "               ('SGDClassifier', SGDClassifier(loss='modified_huber', n_iter=5, random_state=0, shuffle=True)),\n",
    "               ('GradientBoostingClassifier', GradientBoostingClassifier()),\n",
    "               ('LinearSVC',svm.SVC())\n",
    "              ]\n",
    "\n",
    "print('Multiple classifiers results: ')\n",
    "for name, classifier in classifiers:\n",
    "    for i in range(1): # 3 runs\n",
    "        print (name)\n",
    "        #classifier.fit(train_input, train_target )\n",
    "        classifier.fit(X_train[numerics_train], y_train)\n",
    "        end=time.time()\n",
    "        pred = classifier.predict(X_test[numerics_train])\n",
    "        print 'Accuracy for {} : '.format(name), accuracy_score(pred,y_test)\n"
   ]
  },
  {
   "cell_type": "markdown",
   "metadata": {},
   "source": [
    "### Transorming categorical variables into numerical variables by using the get_dummies method in Pandas :"
   ]
  },
  {
   "cell_type": "code",
   "execution_count": 34,
   "metadata": {
    "collapsed": true
   },
   "outputs": [],
   "source": [
    "# We will include the dummies of categorical variables\n",
    "new_names_pre=pd.get_dummies(data[non_numerics], prefix=non_numerics).head().columns\n",
    "new_names=[item for item in new_names_pre if item not in non_numerics][:-2]\n",
    "\n",
    "resampled_data=pd.get_dummies(data, prefix=non_numerics)\n",
    "resampled_data=extract(resampled_data,2000).sample(frac=1).reset_index(drop=False)\n",
    "\n",
    "input=numerics_train+new_names\n",
    "\n",
    "train, test = train_test_split(resampled_data, test_size = .15)\n",
    "\n",
    "X_train=train[input]\n",
    "y_train=train['Superior_Inferior']\n",
    "\n",
    "X_test=test[input]\n",
    "y_test=test['Superior_Inferior']\n"
   ]
  },
  {
   "cell_type": "code",
   "execution_count": 35,
   "metadata": {},
   "outputs": [
    {
     "data": {
      "text/plain": [
       "Index([u'Age', u'fnlwgt', u'Education-number', u'Capital-gain',\n",
       "       u'Capital-loss', u'Hours-per-week', u'Workclass_ Federal-gov',\n",
       "       u'Workclass_ Local-gov', u'Workclass_ Private',\n",
       "       u'Workclass_ Self-emp-inc',\n",
       "       ...\n",
       "       u'Native_Country_ Portugal', u'Native_Country_ Puerto-Rico',\n",
       "       u'Native_Country_ Scotland', u'Native_Country_ South',\n",
       "       u'Native_Country_ Taiwan', u'Native_Country_ Thailand',\n",
       "       u'Native_Country_ Trinadad&Tobago', u'Native_Country_ United-States',\n",
       "       u'Native_Country_ Vietnam', u'Native_Country_ Yugoslavia'],\n",
       "      dtype='object', length=104)"
      ]
     },
     "execution_count": 35,
     "metadata": {},
     "output_type": "execute_result"
    }
   ],
   "source": [
    "X_train.columns"
   ]
  },
  {
   "cell_type": "markdown",
   "metadata": {},
   "source": [
    "#### Trying SVM model on our additional attributes"
   ]
  },
  {
   "cell_type": "code",
   "execution_count": 36,
   "metadata": {},
   "outputs": [
    {
     "name": "stdout",
     "output_type": "stream",
     "text": [
      "SVM results: \n",
      "('Accuracy for SVM using rbf kernel : ', 0.49333333333333335)\n"
     ]
    }
   ],
   "source": [
    "kernels=['rbf']\n",
    "print('SVM results: ')\n",
    "\n",
    "for kernel in kernels:\n",
    "    clf=svm.SVC(kernel=kernel)\n",
    "    clf.fit(X_train,y_train)\n",
    "    pred=clf.predict(X_test)\n",
    "    print('Accuracy for SVM using '+kernel+ ' kernel : ',accuracy_score(pred,y_test))"
   ]
  },
  {
   "cell_type": "code",
   "execution_count": 37,
   "metadata": {},
   "outputs": [
    {
     "name": "stdout",
     "output_type": "stream",
     "text": [
      "Multiple classifiers results: \n",
      "RandomForestClassifierG\n",
      "Accuracy for RandomForestClassifierG :  0.693333333333\n",
      "RandomForestClassifierE\n",
      "Accuracy for RandomForestClassifierE :  0.673333333333\n",
      "AdaBoostClassifier\n",
      "Accuracy for AdaBoostClassifier :  0.726666666667\n",
      "ExtraTreesClassifier\n",
      "Accuracy for ExtraTreesClassifier :  0.663333333333\n",
      "DecisionTreeClassifier\n",
      "Accuracy for DecisionTreeClassifier :  0.69\n",
      "MultinomialNB\n",
      "Accuracy for MultinomialNB :  0.61\n",
      "SGDClassifier\n",
      "Accuracy for SGDClassifier :  0.53\n",
      "GradientBoostingClassifier\n",
      "Accuracy for GradientBoostingClassifier :  0.7\n",
      "LinearSVC\n",
      "Accuracy for LinearSVC :  0.49\n"
     ]
    }
   ],
   "source": [
    "# multiple classifiers after including the dummies\n",
    "print('Multiple classifiers results: ')\n",
    "for name, classifier in classifiers:\n",
    "    for i in range(1): # 3 runs\n",
    "        print (name)\n",
    "        #classifier.fit(train_input, train_target )\n",
    "        classifier.fit(X_train[numerics_train], y_train)\n",
    "        end=time.time()\n",
    "        pred = classifier.predict(X_test[numerics_train])\n",
    "        print 'Accuracy for {} : '.format(name), accuracy_score(pred,y_test)"
   ]
  },
  {
   "cell_type": "markdown",
   "metadata": {},
   "source": [
    "#### Studying correlations between newly created attributes:"
   ]
  },
  {
   "cell_type": "code",
   "execution_count": 38,
   "metadata": {},
   "outputs": [
    {
     "data": {
      "image/png": "[encoded data removed]",
      "text/plain": [
       "<matplotlib.figure.Figure at 0x7fdc19b38410>"
      ]
     },
     "metadata": {},
     "output_type": "display_data"
    }
   ],
   "source": [
    "def corr_portion(begin,end):\n",
    "    corr_dummies = resampled_data[input[begin:end]].corr()\n",
    "    # plot the heatmap\n",
    "    sns.heatmap(corr_dummies)\n",
    "\n",
    "corr_portion(0,10)"
   ]
  },
  {
   "cell_type": "code",
   "execution_count": 39,
   "metadata": {},
   "outputs": [
    {
     "data": {
      "image/png": "[encoded data removed]",
      "text/plain": [
       "<matplotlib.figure.Figure at 0x7fdc28684810>"
      ]
     },
     "metadata": {},
     "output_type": "display_data"
    }
   ],
   "source": [
    "corr_portion(10,20)"
   ]
  },
  {
   "cell_type": "code",
   "execution_count": 40,
   "metadata": {},
   "outputs": [
    {
     "data": {
      "image/png": "[encoded data removed]",
      "text/plain": [
       "<matplotlib.figure.Figure at 0x7fdc1905f550>"
      ]
     },
     "metadata": {},
     "output_type": "display_data"
    }
   ],
   "source": [
    "corr_portion(20,30)"
   ]
  },
  {
   "cell_type": "code",
   "execution_count": 41,
   "metadata": {},
   "outputs": [
    {
     "data": {
      "image/png": "[encoded data removed]",
      "text/plain": [
       "<matplotlib.figure.Figure at 0x7fdc19b2a550>"
      ]
     },
     "metadata": {},
     "output_type": "display_data"
    }
   ],
   "source": [
    "corr_portion(30,40)"
   ]
  },
  {
   "cell_type": "code",
   "execution_count": 42,
   "metadata": {},
   "outputs": [
    {
     "data": {
      "image/png": "[encoded data removed]",
      "text/plain": [
       "<matplotlib.figure.Figure at 0x7fdc19b2a950>"
      ]
     },
     "metadata": {},
     "output_type": "display_data"
    }
   ],
   "source": [
    "corr_portion(40,50)"
   ]
  },
  {
   "cell_type": "code",
   "execution_count": 43,
   "metadata": {},
   "outputs": [
    {
     "data": {
      "image/png": "[encoded data removed]",
      "text/plain": [
       "<matplotlib.figure.Figure at 0x7fdc18f026d0>"
      ]
     },
     "metadata": {},
     "output_type": "display_data"
    }
   ],
   "source": [
    "corr_portion(50,60)"
   ]
  },
  {
   "cell_type": "code",
   "execution_count": 44,
   "metadata": {},
   "outputs": [
    {
     "data": {
      "image/png": "[encoded data removed]",
      "text/plain": [
       "<matplotlib.figure.Figure at 0x7fdc18e59750>"
      ]
     },
     "metadata": {},
     "output_type": "display_data"
    }
   ],
   "source": [
    "corr_portion(60,70)"
   ]
  },
  {
   "cell_type": "code",
   "execution_count": 45,
   "metadata": {},
   "outputs": [
    {
     "data": {
      "image/png": "[encoded data removed]",
      "text/plain": [
       "<matplotlib.figure.Figure at 0x7fdc18e81c90>"
      ]
     },
     "metadata": {},
     "output_type": "display_data"
    }
   ],
   "source": [
    "corr_portion(100,110)"
   ]
  },
  {
   "cell_type": "code",
   "execution_count": 46,
   "metadata": {
    "collapsed": true
   },
   "outputs": [],
   "source": [
    "#We will try to get rid of certain variables\n",
    "\n",
    "last_filter=[item for item in input if (item!='Sex_Male' and item!='Relationship_ Not-in-family' and item!='Marital-Status_ Never-married')]\n",
    "\n",
    "train, test = train_test_split(resampled_data, test_size = .15)\n",
    "\n",
    "X_train=train[last_filter]\n",
    "y_train=train['Superior_Inferior']\n",
    "\n",
    "X_test=test[last_filter]\n",
    "y_test=test['Superior_Inferior']\n"
   ]
  },
  {
   "cell_type": "code",
   "execution_count": 47,
   "metadata": {},
   "outputs": [
    {
     "name": "stdout",
     "output_type": "stream",
     "text": [
      "SVM results: \n",
      "('Accuracy for SVM using rbf kernel : ', 0.5)\n"
     ]
    }
   ],
   "source": [
    "kernels=['rbf']\n",
    "print('SVM results: ')\n",
    "\n",
    "for kernel in kernels:\n",
    "    clf=svm.SVC(kernel=kernel)\n",
    "    clf.fit(X_train,y_train)\n",
    "    pred=clf.predict(X_test)\n",
    "    print('Accuracy for SVM using '+kernel+ ' kernel : ',accuracy_score(pred,y_test))"
   ]
  },
  {
   "cell_type": "code",
   "execution_count": 48,
   "metadata": {},
   "outputs": [
    {
     "name": "stdout",
     "output_type": "stream",
     "text": [
      "Multiple classifiers results: \n",
      "RandomForestClassifierG\n",
      "Accuracy for RandomForestClassifierG :  0.79\n",
      "RandomForestClassifierE\n",
      "Accuracy for RandomForestClassifierE :  0.786666666667\n",
      "AdaBoostClassifier\n",
      "Accuracy for AdaBoostClassifier :  0.816666666667\n",
      "ExtraTreesClassifier\n",
      "Accuracy for ExtraTreesClassifier :  0.773333333333\n",
      "DecisionTreeClassifier\n",
      "Accuracy for DecisionTreeClassifier :  0.743333333333\n",
      "MultinomialNB\n",
      "Accuracy for MultinomialNB :  0.583333333333\n",
      "SGDClassifier\n",
      "Accuracy for SGDClassifier :  0.553333333333\n",
      "GradientBoostingClassifier\n",
      "Accuracy for GradientBoostingClassifier :  0.84\n",
      "LinearSVC\n",
      "Accuracy for LinearSVC :  0.5\n"
     ]
    }
   ],
   "source": [
    "print('Multiple classifiers results: ')\n",
    "for name, classifier in classifiers:\n",
    "    for i in range(1): # 3 runs\n",
    "        print (name)\n",
    "        #classifier.fit(train_input, train_target )\n",
    "        classifier.fit(X_train, y_train)\n",
    "        end=time.time()\n",
    "        pred = classifier.predict(X_test)\n",
    "        print 'Accuracy for {} : '.format(name), accuracy_score(pred,y_test)"
   ]
  },
  {
   "cell_type": "markdown",
   "metadata": {},
   "source": [
    "## Trying a simple deep model using Keras for our classification:"
   ]
  },
  {
   "cell_type": "code",
   "execution_count": 49,
   "metadata": {
    "collapsed": true
   },
   "outputs": [],
   "source": [
    "X_train_arr=np.array(X_train[last_filter])\n",
    "Y_train_arr=np.array(y_train)\n",
    "\n",
    "X_test_arr=np.array(X_test[last_filter])\n",
    "Y_test_arr=np.array(y_test)"
   ]
  },
  {
   "cell_type": "code",
   "execution_count": 102,
   "metadata": {},
   "outputs": [
    {
     "name": "stdout",
     "output_type": "stream",
     "text": [
      "(1700, 101)\n",
      "(1700, 2)\n"
     ]
    }
   ],
   "source": [
    "#We perform the right shaping procedures to feed our deep model\n",
    "from keras.utils import np_utils\n",
    "\n",
    "nb_classes = max(Y_train_arr)+1\n",
    "Y_train = np_utils.to_categorical(Y_train_arr, nb_classes)\n",
    "Y_test = np_utils.to_categorical(Y_test_arr, nb_classes)\n",
    "\n",
    "X=X_train_arr.reshape(X_train_arr.shape[0],X_train_arr.shape[1])\n",
    "y=Y_train.reshape(Y_train.shape[0],Y_train.shape[1])\n",
    "\n",
    "X_tes, y_tes= X_test_arr.reshape(X_test_arr.shape[0],X_test_arr.shape[1]),\\\n",
    "    Y_test.reshape(Y_test.shape[0],Y_test.shape[1])\n",
    "\n",
    "print(X.shape)\n",
    "print(y.shape)"
   ]
  },
  {
   "cell_type": "code",
   "execution_count": 52,
   "metadata": {},
   "outputs": [
    {
     "name": "stderr",
     "output_type": "stream",
     "text": [
      "/usr/local/lib/python2.7/dist-packages/keras/models.py:837: UserWarning: The `nb_epoch` argument in `fit` has been renamed `epochs`.\n",
      "  warnings.warn('The `nb_epoch` argument in `fit` '\n"
     ]
    },
    {
     "name": "stdout",
     "output_type": "stream",
     "text": [
      "Epoch 1/20\n",
      "1700/1700 [==============================] - 0s - loss: 8.0875 - acc: 0.4982     \n",
      "Epoch 2/20\n",
      "1700/1700 [==============================] - 0s - loss: 8.0875 - acc: 0.4982     \n",
      "Epoch 3/20\n",
      "1700/1700 [==============================] - 0s - loss: 8.0875 - acc: 0.4982     \n",
      "Epoch 4/20\n",
      "1700/1700 [==============================] - 0s - loss: 8.0875 - acc: 0.4982     \n",
      "Epoch 5/20\n",
      "1700/1700 [==============================] - 0s - loss: 8.0875 - acc: 0.4982     \n",
      "Epoch 6/20\n",
      "1700/1700 [==============================] - 0s - loss: 8.0875 - acc: 0.4982     \n",
      "Epoch 7/20\n",
      "1700/1700 [==============================] - 0s - loss: 8.0875 - acc: 0.4982     \n",
      "Epoch 8/20\n",
      "1700/1700 [==============================] - 0s - loss: 8.0875 - acc: 0.4982     \n",
      "Epoch 9/20\n",
      "1700/1700 [==============================] - 0s - loss: 8.0875 - acc: 0.4982      - ETA: 0s - loss: 7.9471 - acc: 0\n",
      "Epoch 10/20\n",
      "1700/1700 [==============================] - 0s - loss: 8.0875 - acc: 0.4982     \n",
      "Epoch 11/20\n",
      "1700/1700 [==============================] - 0s - loss: 8.0875 - acc: 0.4982     \n",
      "Epoch 12/20\n",
      "1700/1700 [==============================] - 0s - loss: 8.0875 - acc: 0.4982     \n",
      "Epoch 13/20\n",
      "1700/1700 [==============================] - 0s - loss: 8.0875 - acc: 0.4982     \n",
      "Epoch 14/20\n",
      "1700/1700 [==============================] - 0s - loss: 8.0875 - acc: 0.4982     \n",
      "Epoch 15/20\n",
      "1700/1700 [==============================] - 0s - loss: 8.0875 - acc: 0.4982     \n",
      "Epoch 16/20\n",
      "1700/1700 [==============================] - 0s - loss: 8.0875 - acc: 0.4982     \n",
      "Epoch 17/20\n",
      "1700/1700 [==============================] - 0s - loss: 8.0875 - acc: 0.4982     \n",
      "Epoch 18/20\n",
      "1700/1700 [==============================] - 0s - loss: 8.0875 - acc: 0.4982     \n",
      "Epoch 19/20\n",
      "1700/1700 [==============================] - 0s - loss: 8.0875 - acc: 0.4982     \n",
      "Epoch 20/20\n",
      "1700/1700 [==============================] - 0s - loss: 8.0875 - acc: 0.4982     \n",
      " 32/300 [==>...........................] - ETA: 0s"
     ]
    }
   ],
   "source": [
    "from keras.models import Sequential\n",
    "from keras.layers import Dense, Dropout, Activation\n",
    "dimof_input = X.shape[1]\n",
    "dimof_output = y.shape[1]\n",
    "\n",
    "batch_size = 16\n",
    "dimof_middle = 50\n",
    "dropout = 0.1\n",
    "epochs = 20\n",
    "verbose = 1\n",
    "\n",
    "\n",
    "# Set model\n",
    "def build_model(dimof_input,dimof_middle,dimof_output):\n",
    "    model = Sequential()\n",
    "    model.add(Dense(dimof_middle, input_dim=dimof_input))\n",
    "    model.add(Dense(dimof_middle))\n",
    "    model.add(Dense(dimof_output, activation='softmax'))\n",
    "    return model\n",
    "\n",
    "optimizers=['sgd']\n",
    "\n",
    "for optimizer in optimizers :\n",
    "    model=build_model(dimof_input,dimof_middle,dimof_output)\n",
    "    model.compile(loss='categorical_crossentropy',\n",
    "              optimizer=optimizer,\n",
    "              metrics=['accuracy'])\n",
    "\n",
    "    model.fit(X,y,batch_size=batch_size, nb_epoch=epochs, verbose=1)\n",
    "    model.evaluate(X_tes, y_tes, verbose=1)\n",
    "     \n",
    "    del model"
   ]
  },
  {
   "cell_type": "markdown",
   "metadata": {},
   "source": [
    "## Performing dimensionality reduction before proceeding with our models : "
   ]
  },
  {
   "cell_type": "code",
   "execution_count": 91,
   "metadata": {},
   "outputs": [
    {
     "name": "stdout",
     "output_type": "stream",
     "text": [
      "('X_train_vect: ( before dimensionality reduction )   ', (1700, 101))\n",
      "('X_test_vect: ( before dimensionality reduction )   ', (300, 101))\n"
     ]
    },
    {
     "data": {
      "text/plain": [
       "\"\\n\\nprint ('X_train_pca:  ( after dimensionality reduction )  ',X_train_pca.shape)\\nprint ('X_test_pca: ( after dimensionality reduction )   ',X_test_pca.shape)\\n\""
      ]
     },
     "execution_count": 91,
     "metadata": {},
     "output_type": "execute_result"
    }
   ],
   "source": [
    "#Dimensionality reduction\n",
    "\n",
    "print ('X_train_vect: ( before dimensionality reduction )   ',X_train.shape)\n",
    "print ('X_test_vect: ( before dimensionality reduction )   ',X_test.shape)\n",
    "\n",
    "### PCA part\n",
    "\n",
    "pca = decomposition.PCA(n_components=25)\n",
    "pca_obj=pca.fit(X_train)\n",
    "X_train_pca=pca_obj.transform(X_train)\n",
    "X_test_pca=pca_obj.transform(X_test)\n",
    "\n",
    "\"\"\"\n",
    "### t_SNE part\n",
    "\n",
    "tsne = TSNE(n_components=25, verbose=1, perplexity=40, n_iter=300)\n",
    "X_train_tSNE = tsne.fit_transform(X_train)\n",
    "X_test_tSNE = tsne.fit_transform(X_test)\n",
    "\n",
    "print('t-SNE done! Time elapsed: {} seconds'.format(time.time()-time_start))\n",
    "\"\"\"\n",
    "##KernelPCA\n",
    "\n",
    "kpca = decomposition.KernelPCA(n_components=25,kernel=\"poly\",degree=4)\n",
    "kpca_obj = kpca.fit(X_train)\n",
    "X_train_kPCA = kpca_obj.transform(X_train)\n",
    "X_test_kPCA = kpca_obj.transform(X_test)\n",
    "\n",
    "\"\"\"\n",
    "\n",
    "print ('X_train_pca:  ( after dimensionality reduction )  ',X_train_pca.shape)\n",
    "print ('X_test_pca: ( after dimensionality reduction )   ',X_test_pca.shape)\n",
    "\"\"\""
   ]
  },
  {
   "cell_type": "markdown",
   "metadata": {},
   "source": [
    "Trying SVM model after performing PCA :"
   ]
  },
  {
   "cell_type": "code",
   "execution_count": 92,
   "metadata": {},
   "outputs": [
    {
     "name": "stdout",
     "output_type": "stream",
     "text": [
      "SVM results: \n",
      "('Accuracy for SVM using rbf kernel : ', 0.5033333333333333)\n"
     ]
    }
   ],
   "source": [
    "kernels=['rbf']\n",
    "print('SVM results: ')\n",
    "\n",
    "for kernel in kernels:\n",
    "    clf=svm.SVC(kernel=kernel)\n",
    "    clf.fit(X_train_pca,y_train)\n",
    "    pred=clf.predict(X_test_pca)\n",
    "    print('Accuracy for SVM using '+kernel+ ' kernel : ',accuracy_score(pred,y_test))"
   ]
  },
  {
   "cell_type": "markdown",
   "metadata": {},
   "source": [
    "Trying SVM model after performing Kernel based PCA :"
   ]
  },
  {
   "cell_type": "code",
   "execution_count": 93,
   "metadata": {},
   "outputs": [
    {
     "name": "stdout",
     "output_type": "stream",
     "text": [
      "SVM results: \n",
      "('Accuracy for SVM using rbf kernel : ', 0.48999999999999999)\n"
     ]
    }
   ],
   "source": [
    "kernels=['rbf']\n",
    "print('SVM results: ')\n",
    "\n",
    "for kernel in kernels:\n",
    "    clf=svm.SVC(kernel=kernel)\n",
    "    clf.fit(X_train_kPCA,y_train)\n",
    "    pred=clf.predict(X_test_kPCA)\n",
    "    print('Accuracy for SVM using '+kernel+ ' kernel : ',accuracy_score(pred,y_test))"
   ]
  },
  {
   "cell_type": "markdown",
   "metadata": {},
   "source": [
    "Several models after performing PCA:"
   ]
  },
  {
   "cell_type": "code",
   "execution_count": 95,
   "metadata": {},
   "outputs": [
    {
     "name": "stdout",
     "output_type": "stream",
     "text": [
      "Multiple classifiers results: \n",
      "RandomForestClassifierG\n",
      "Accuracy for RandomForestClassifierG :  0.803333333333\n",
      "RandomForestClassifierE\n",
      "Accuracy for RandomForestClassifierE :  0.8\n",
      "AdaBoostClassifier\n",
      "Accuracy for AdaBoostClassifier :  0.833333333333\n",
      "ExtraTreesClassifier\n",
      "Accuracy for ExtraTreesClassifier :  0.776666666667\n",
      "DecisionTreeClassifier\n",
      "Accuracy for DecisionTreeClassifier :  0.736666666667\n",
      "SGDClassifier\n",
      "Accuracy for SGDClassifier :  0.526666666667\n",
      "GradientBoostingClassifier\n",
      "Accuracy for GradientBoostingClassifier :  0.806666666667\n",
      "LinearSVC\n",
      "Accuracy for LinearSVC :  0.503333333333\n"
     ]
    }
   ],
   "source": [
    "print('Multiple classifiers results: ')\n",
    "for name, classifier in [classifier for classifier in classifiers if not classifier[0]=='MultinomialNB']:\n",
    "    for i in range(1): # 3 runs\n",
    "        print (name)\n",
    "        #classifier.fit(train_input, train_target )\n",
    "        classifier.fit(X_train_pca, y_train)\n",
    "        end=time.time()\n",
    "        pred = classifier.predict(X_test_pca)\n",
    "        print 'Accuracy for {} : '.format(name), accuracy_score(pred,y_test)"
   ]
  },
  {
   "cell_type": "markdown",
   "metadata": {},
   "source": [
    "Several models after performing Kernel-based PCA:"
   ]
  },
  {
   "cell_type": "code",
   "execution_count": 94,
   "metadata": {},
   "outputs": [
    {
     "name": "stdout",
     "output_type": "stream",
     "text": [
      "Multiple classifiers results: \n",
      "RandomForestClassifierG\n",
      "Accuracy for RandomForestClassifierG :  0.79\n",
      "RandomForestClassifierE\n",
      "Accuracy for RandomForestClassifierE :  0.783333333333\n",
      "AdaBoostClassifier\n",
      "Accuracy for AdaBoostClassifier :  0.773333333333\n",
      "ExtraTreesClassifier\n",
      "Accuracy for ExtraTreesClassifier :  0.73\n",
      "DecisionTreeClassifier\n",
      "Accuracy for DecisionTreeClassifier :  0.67\n",
      "SGDClassifier\n",
      "Accuracy for SGDClassifier :  0.49\n",
      "GradientBoostingClassifier\n",
      "Accuracy for GradientBoostingClassifier :  0.783333333333\n",
      "LinearSVC\n",
      "Accuracy for LinearSVC :  0.49\n"
     ]
    },
    {
   "cell_type": "markdown",
   "metadata": {},
   "source": [
    "### Conclusion: ",
    "The best accuracies can be trusted since our data is balanced, otherwise we would have referred to ",
    "precision and recall metrics. The highest accuracies are obtained with both the AdaBoost and GradientBoosting classifiers.",
    "We could use the XGBOOST library in our case and push further the achieved performance after taking care of a certain",
    "set of parameters."
   ]
  }
   ],
   "source": [
    "print('Multiple classifiers results: ')\n",
    "for name, classifier in [classifier for classifier in classifiers if not classifier[0]=='MultinomialNB']:\n",
    "    for i in range(1): # 3 runs\n",
    "        print (name)\n",
    "        #classifier.fit(train_input, train_target )\n",
    "        classifier.fit(X_train_kPCA, y_train)\n",
    "        end=time.time()\n",
    "        pred = classifier.predict(X_test_kPCA)\n",
    "        print 'Accuracy for {} : '.format(name), accuracy_score(pred,y_test)"
   ]
  }
 ],
 "metadata": {
  "kernelspec": {
   "display_name": "Python 2",
   "language": "python",
   "name": "python2"
  },
  "language_info": {
   "codemirror_mode": {
    "name": "ipython",
    "version": 2
   },
   "file_extension": ".py",
   "mimetype": "text/x-python",
   "name": "python",
   "nbconvert_exporter": "python",
   "pygments_lexer": "ipython2",
   "version": "2.7.6"
  }
 },
 "nbformat": 4,
 "nbformat_minor": 2
}
